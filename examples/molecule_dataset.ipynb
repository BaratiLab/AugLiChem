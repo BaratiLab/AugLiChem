{
 "cells": [
  {
   "cell_type": "markdown",
   "id": "e52af24e",
   "metadata": {},
   "source": [
    "### Imports"
   ]
  },
  {
   "cell_type": "code",
   "execution_count": 1,
   "id": "fdeea0fd",
   "metadata": {},
   "outputs": [],
   "source": [
    "import torch\n",
    "import os\n",
    "from tqdm import tqdm\n",
    "\n",
    "from rdkit import Chem\n",
    "from rdkit import RDLogger\n",
    "RDLogger.DisableLog('rdApp.*')                                                                                                                                                       \n",
    "\n",
    "from rdkit.Chem import Draw\n",
    "from matplotlib import pyplot as plt\n",
    "\n",
    "from sklearn.metrics import roc_auc_score as ras\n",
    "from sklearn.metrics import mean_squared_error as mse"
   ]
  },
  {
   "cell_type": "markdown",
   "id": "f064887f",
   "metadata": {},
   "source": [
    "### Auglichem imports"
   ]
  },
  {
   "cell_type": "code",
   "execution_count": 2,
   "id": "a6bcf959",
   "metadata": {},
   "outputs": [],
   "source": [
    "from auglichem.molecule import Compose, RandomAtomMask, RandomBondDelete, MotifRemoval\n",
    "from auglichem.molecule.data import MoleculeDatasetWrapper\n",
    "from auglichem.molecule.models import GCN, AttentiveFP, GINE, DeepGCN"
   ]
  },
  {
   "cell_type": "markdown",
   "id": "7125df85",
   "metadata": {},
   "source": [
    "### Set up dataset"
   ]
  },
  {
   "cell_type": "code",
   "execution_count": 3,
   "id": "2887799f",
   "metadata": {},
   "outputs": [
    {
     "name": "stdout",
     "output_type": "stream",
     "text": [
      "Using: ./data_download/FreeSolv/SAMPL.csv\n",
      "DATASET: FreeSolv\n"
     ]
    },
    {
     "name": "stderr",
     "output_type": "stream",
     "text": [
      "642it [00:00, 27590.43it/s]"
     ]
    },
    {
     "name": "stdout",
     "output_type": "stream",
     "text": [
      "Generating scaffolds...\n",
      "Generating scaffold 0/641\n",
      "About to sort in scaffold sets\n"
     ]
    },
    {
     "name": "stderr",
     "output_type": "stream",
     "text": [
      "\n",
      "/var/folders/mh/wfzfv8nd3g7_8w30_pjfbhtr0000gn/T/ipykernel_82463/3534480398.py:12: RuntimeWarning: No target was set, using expt by default.\n",
      "  train_loader, valid_loader, test_loader = dataset.get_data_loaders()\n",
      "/Users/clo/miniforge3/envs/test_auglichem/lib/python3.8/site-packages/torch_geometric/deprecation.py:13: UserWarning: 'data.DataLoader' is deprecated, use 'loader.DataLoader' instead\n",
      "  warnings.warn(out)\n"
     ]
    }
   ],
   "source": [
    "# Create transformation\n",
    "transform = Compose([\n",
    "    RandomAtomMask([0.1, 0.3]),\n",
    "    RandomBondDelete([0.1, 0.3]),\n",
    "    MotifRemoval()\n",
    "])\n",
    "\n",
    "# Initialize dataset object\n",
    "dataset = MoleculeDatasetWrapper(\"FreeSolv\", data_path=\"./data_download\", transform=transform, batch_size=128)\n",
    "\n",
    "# Get train/valid/test splits as loaders\n",
    "train_loader, valid_loader, test_loader = dataset.get_data_loaders()"
   ]
  },
  {
   "cell_type": "markdown",
   "id": "072b1301",
   "metadata": {},
   "source": [
    "### Initialize model with task from data"
   ]
  },
  {
   "cell_type": "code",
   "execution_count": 4,
   "id": "1f47e690",
   "metadata": {},
   "outputs": [],
   "source": [
    "# Get model\n",
    "model = GCN(task=dataset.task)\n",
    "\n",
    "# Uncomment the following line to use GPU\n",
    "#model.cuda()"
   ]
  },
  {
   "cell_type": "markdown",
   "id": "2c48a46f",
   "metadata": {},
   "source": [
    "### Initialize traning loop"
   ]
  },
  {
   "cell_type": "code",
   "execution_count": 5,
   "id": "4981f4ca",
   "metadata": {},
   "outputs": [],
   "source": [
    "if(dataset.task == 'classification'):\n",
    "    criterion = torch.nn.CrossEntropyLoss()\n",
    "elif(dataset.task == 'regression'):\n",
    "    criterion = torch.nn.MSELoss()\n",
    "\n",
    "optimizer = torch.optim.Adam(model.parameters(), lr=1e-3, weight_decay=1e-5)"
   ]
  },
  {
   "cell_type": "markdown",
   "id": "1e818fdf",
   "metadata": {},
   "source": [
    "### Train the model"
   ]
  },
  {
   "cell_type": "code",
   "execution_count": 6,
   "id": "2855ac6b",
   "metadata": {},
   "outputs": [
    {
     "name": "stderr",
     "output_type": "stream",
     "text": [
      "4it [00:00,  5.47it/s]\n",
      "4it [00:00,  5.73it/s]\n"
     ]
    }
   ],
   "source": [
    "for epoch in range(2):\n",
    "    for bn, data in tqdm(enumerate(train_loader)):\n",
    "\n",
    "        optimizer.zero_grad()\n",
    "        \n",
    "        _, pred = model(data)\n",
    "        \n",
    "        # data -> GPU\n",
    "        #_, pred = model(data.cuda())\n",
    "        \n",
    "        if(train_loader.dataset.task == \"classification\"):\n",
    "            loss = criterion(pred, data.y.flatten())\n",
    "        if(train_loader.dataset.task == \"regression\"):\n",
    "            loss = criterion(pred[:,0], data.y.flatten())\n",
    "\n",
    "        loss.backward()\n",
    "        optimizer.step()"
   ]
  },
  {
   "cell_type": "markdown",
   "id": "772cfea1",
   "metadata": {},
   "source": [
    "### Test the model"
   ]
  },
  {
   "cell_type": "code",
   "execution_count": 7,
   "id": "c81f966f",
   "metadata": {},
   "outputs": [],
   "source": [
    "def evaluate(model, test_loader, validation=False):\n",
    "    task = test_loader.dataset.task\n",
    "    set_str = \"VALIDATION\" if validation else \"TEST\"\n",
    "    with torch.no_grad():\n",
    "        model.eval()\n",
    "        \n",
    "        all_preds = torch.Tensor()\n",
    "        all_labels = torch.Tensor()\n",
    "        for data in test_loader:\n",
    "            _, pred = model(data)\n",
    "\n",
    "            # data -> GPU\n",
    "            #_, pred = model(data.cuda())\n",
    "            \n",
    "            # Hold on to all predictions and labels\n",
    "            if(task == 'classification'):\n",
    "                #all_preds.extend(pred[:,1])\n",
    "                all_preds = torch.cat([all_preds, pred[:,1]])\n",
    "            elif(task == 'regression'):\n",
    "                #all_preds.extend(pred)\n",
    "                all_preds = torch.cat([all_preds, pred])\n",
    "                \n",
    "            #all_labels.extend(data.y)\n",
    "            all_labels = torch.cat([all_labels, data.y])\n",
    "        \n",
    "        if(task == 'classification'):\n",
    "            metric = ras(all_labels.cpu(), all_preds.cpu().detach())\n",
    "            print(\"{0} ROC: {1:.3f}\".format(set_str, metric))\n",
    "        elif(task == 'regression'):\n",
    "            metric = mse(all_labels.cpu(), all_preds.cpu().detach(), squared=False)\n",
    "            print(\"{0} RMSE: {1:.3f}\".format(set_str, metric))\n"
   ]
  },
  {
   "cell_type": "code",
   "execution_count": 8,
   "id": "092df20d",
   "metadata": {},
   "outputs": [
    {
     "name": "stdout",
     "output_type": "stream",
     "text": [
      "VALIDATION RMSE: 33.159\n",
      "TEST RMSE: 37.131\n"
     ]
    }
   ],
   "source": [
    "evaluate(model, valid_loader, True)\n",
    "evaluate(model, test_loader)"
   ]
  },
  {
   "cell_type": "markdown",
   "id": "09bc37df",
   "metadata": {},
   "source": [
    "### Model saving/loading example"
   ]
  },
  {
   "cell_type": "code",
   "execution_count": 9,
   "id": "47a4c105",
   "metadata": {},
   "outputs": [],
   "source": [
    "# Save model\n",
    "os.makedirs(\"./saved_models/\", exist_ok=True)\n",
    "torch.save(model.state_dict(), \"./saved_models/example_gcn\")"
   ]
  },
  {
   "cell_type": "code",
   "execution_count": 10,
   "id": "f6cafea4",
   "metadata": {},
   "outputs": [
    {
     "name": "stdout",
     "output_type": "stream",
     "text": [
      "TEST RMSE: 6.590\n"
     ]
    }
   ],
   "source": [
    "# Instantiate new model and evaluate\n",
    "model = GCN(task=dataset.task)\n",
    "\n",
    "# For GPU, uncomment the following line\n",
    "#model.cuda()\n",
    "\n",
    "evaluate(model, test_loader)"
   ]
  },
  {
   "cell_type": "code",
   "execution_count": 11,
   "id": "1a559e08",
   "metadata": {},
   "outputs": [
    {
     "name": "stdout",
     "output_type": "stream",
     "text": [
      "TEST RMSE: 37.131\n"
     ]
    }
   ],
   "source": [
    "# Load saved model and evaluate\n",
    "model.load_state_dict(torch.load(\"./saved_models/example_gcn\"))\n",
    "evaluate(model, test_loader)"
   ]
  },
  {
   "cell_type": "code",
   "execution_count": null,
   "id": "d193cb74",
   "metadata": {},
   "outputs": [],
   "source": []
  }
 ],
 "metadata": {
  "kernelspec": {
   "display_name": "Python 3 (ipykernel)",
   "language": "python",
   "name": "python3"
  },
  "language_info": {
   "codemirror_mode": {
    "name": "ipython",
    "version": 3
   },
   "file_extension": ".py",
   "mimetype": "text/x-python",
   "name": "python",
   "nbconvert_exporter": "python",
   "pygments_lexer": "ipython3",
   "version": "3.8.12"
  }
 },
 "nbformat": 4,
 "nbformat_minor": 5
}
