{
 "cells": [
  {
   "cell_type": "markdown",
   "metadata": {},
   "source": [
    "### Try with AugLiChem"
   ]
  },
  {
   "cell_type": "code",
   "execution_count": 1,
   "metadata": {},
   "outputs": [],
   "source": [
    "import sys\n",
    "from tqdm import tqdm\n",
    "sys.path.append(sys.path[0][:-8])\n",
    "\n",
    "import numpy as np\n",
    "\n",
    "import torch\n",
    "import torch.nn as nn\n",
    "import torch.optim as optim\n",
    "torch.manual_seed(8)\n",
    "\n",
    "from sklearn.metrics import roc_auc_score\n",
    "from sklearn.preprocessing import OneHotEncoder\n",
    "\n",
    "from rdkit import Chem"
   ]
  },
  {
   "cell_type": "code",
   "execution_count": 2,
   "metadata": {},
   "outputs": [],
   "source": [
    "from auglichem.molecule.data import MoleculeDatasetWrapper\n",
    "from auglichem.molecule import RandomAtomMask, RandomBondDelete, Compose\n",
    "from auglichem.molecule.models import AttentiveFP\n",
    "\n",
    "from auglichem.molecule.models.AttentiveLayers import Fingerprint\n",
    "from auglichem.molecule.models.getFeatures import save_smiles_dicts, get_smiles_array\n",
    "\n",
    "from auglichem.molecule.models import AttentiveFP as AFP"
   ]
  },
  {
   "cell_type": "code",
   "execution_count": 3,
   "metadata": {},
   "outputs": [],
   "source": [
    "task_name = 'ClinTox'\n",
    "tasks = ['CT_TOX']\n",
    "\n",
    "random_seed = 88\n",
    "\n",
    "batch_size = 100\n",
    "epochs = 800\n",
    "p_dropout = 0.5\n",
    "fingerprint_dim = 200\n",
    "\n",
    "radius = 3\n",
    "T = 3\n",
    "weight_decay = 3 # also known as l2_regularization_lambda\n",
    "learning_rate = 3.5\n",
    "per_task_output_units_num = 2 # for classification model with 2 classes\n",
    "output_units_num = len(tasks) * per_task_output_units_num"
   ]
  },
  {
   "cell_type": "code",
   "execution_count": 4,
   "metadata": {},
   "outputs": [
    {
     "name": "stdout",
     "output_type": "stream",
     "text": [
      "Using: ./data_download/bace.csv\n",
      "DATASET: BACE\n"
     ]
    },
    {
     "name": "stderr",
     "output_type": "stream",
     "text": [
      "1513it [00:00, 5144.63it/s]"
     ]
    },
    {
     "name": "stdout",
     "output_type": "stream",
     "text": [
      "100\n"
     ]
    },
    {
     "name": "stderr",
     "output_type": "stream",
     "text": [
      "\n"
     ]
    }
   ],
   "source": [
    "transform = Compose([\n",
    "    RandomAtomMask(1.),\n",
    "    RandomBondDelete([0., 0.2])\n",
    "])\n",
    "dataset = MoleculeDatasetWrapper('BACE', transform=transform, aug_time=1, batch_size=batch_size)\n",
    "print(dataset.batch_size)"
   ]
  },
  {
   "cell_type": "markdown",
   "metadata": {},
   "source": [
    "### Torch Geometric AFP Implementation"
   ]
  },
  {
   "cell_type": "code",
   "execution_count": 5,
   "metadata": {},
   "outputs": [
    {
     "name": "stdout",
     "output_type": "stream",
     "text": [
      "1512\n",
      "About to generate scaffolds\n",
      "Generating scaffold 0/1512\n",
      "Generating scaffold 1000/1512\n",
      "About to sort in scaffold sets\n"
     ]
    }
   ],
   "source": [
    "train_loader, val_loader, test_loader = dataset.get_data_loaders()"
   ]
  },
  {
   "cell_type": "code",
   "execution_count": 6,
   "metadata": {},
   "outputs": [],
   "source": [
    "model = AFP(num_layers=radius, num_timesteps=T, dropout=p_dropout, hidden_channels=fingerprint_dim, out_channels=output_units_num, edge_dim=2, in_channels=2)\n",
    "#their_model = model = Fingerprint(radius, T, 2, 2,\n",
    "            #fingerprint_dim, output_units_num, p_dropout)"
   ]
  },
  {
   "cell_type": "code",
   "execution_count": 7,
   "metadata": {},
   "outputs": [
    {
     "name": "stdout",
     "output_type": "stream",
     "text": [
      "1168602\n",
      "0 lin1.weight torch.Size([200, 2])\n",
      "1 lin1.bias torch.Size([200])\n",
      "2 atom_convs.0.att_l torch.Size([1, 200])\n",
      "3 atom_convs.0.att_r torch.Size([1, 200])\n",
      "4 atom_convs.0.bias torch.Size([200])\n",
      "5 atom_convs.0.lin1.weight torch.Size([200, 202])\n",
      "6 atom_convs.0.lin2.weight torch.Size([200, 200])\n",
      "7 atom_convs.1.att_l torch.Size([1, 1, 200])\n",
      "8 atom_convs.1.att_r torch.Size([1, 1, 200])\n",
      "9 atom_convs.1.bias torch.Size([200])\n",
      "10 atom_convs.1.lin_l.weight torch.Size([200, 200])\n",
      "11 atom_convs.2.att_l torch.Size([1, 1, 200])\n",
      "12 atom_convs.2.att_r torch.Size([1, 1, 200])\n",
      "13 atom_convs.2.bias torch.Size([200])\n",
      "14 atom_convs.2.lin_l.weight torch.Size([200, 200])\n",
      "15 atom_grus.0.weight_ih torch.Size([600, 200])\n",
      "16 atom_grus.0.weight_hh torch.Size([600, 200])\n",
      "17 atom_grus.0.bias_ih torch.Size([600])\n",
      "18 atom_grus.0.bias_hh torch.Size([600])\n",
      "19 atom_grus.1.weight_ih torch.Size([600, 200])\n",
      "20 atom_grus.1.weight_hh torch.Size([600, 200])\n",
      "21 atom_grus.1.bias_ih torch.Size([600])\n",
      "22 atom_grus.1.bias_hh torch.Size([600])\n",
      "23 atom_grus.2.weight_ih torch.Size([600, 200])\n",
      "24 atom_grus.2.weight_hh torch.Size([600, 200])\n",
      "25 atom_grus.2.bias_ih torch.Size([600])\n",
      "26 atom_grus.2.bias_hh torch.Size([600])\n",
      "27 mol_conv.att_l torch.Size([1, 1, 200])\n",
      "28 mol_conv.att_r torch.Size([1, 1, 200])\n",
      "29 mol_conv.bias torch.Size([200])\n",
      "30 mol_conv.lin_l.weight torch.Size([200, 200])\n",
      "31 mol_gru.weight_ih torch.Size([600, 200])\n",
      "32 mol_gru.weight_hh torch.Size([600, 200])\n",
      "33 mol_gru.bias_ih torch.Size([600])\n",
      "34 mol_gru.bias_hh torch.Size([600])\n",
      "35 lin2.weight torch.Size([2, 200])\n",
      "36 lin2.bias torch.Size([2])\n"
     ]
    }
   ],
   "source": [
    "model_parameters = filter(lambda p: p.requires_grad, model.parameters())\n",
    "params = sum([np.prod(p.size()) for p in model_parameters])\n",
    "print(params)\n",
    "for idx, (name, param) in enumerate(model.named_parameters()):\n",
    "    if param.requires_grad:\n",
    "        print(idx, name, param.data.shape)\n",
    "#print(model)"
   ]
  },
  {
   "cell_type": "code",
   "execution_count": 8,
   "metadata": {},
   "outputs": [],
   "source": [
    "def evaluate(model, test_loader):\n",
    "    with torch.no_grad():\n",
    "        model.eval()\n",
    "        data = next(iter(test_loader))\n",
    "        \n",
    "        # Get data\n",
    "        x = data.x\n",
    "        edge_index = data.edge_index\n",
    "        edge_attr = data.edge_attr\n",
    "        \n",
    "        # Predict\n",
    "        pred = model(x.float(), edge_index, edge_attr, data.batch)\n",
    "        \n",
    "        loss = criterion(pred, data.y.flatten())\n",
    "\n",
    "    score = roc_auc_score(data.y, pred.detach()[:,1])\n",
    "    print(\"TEST LOSS: {0:.3f}, ROC-AUC: {1:.3f}\".format(loss.detach(), score))\n",
    "    \n",
    "def validate(model, val_loader):\n",
    "    with torch.no_grad():\n",
    "        model.eval()\n",
    "        data = next(iter(val_loader))\n",
    "        \n",
    "        # Get data\n",
    "        x = data.x\n",
    "        edge_index = data.edge_index\n",
    "        edge_attr = data.edge_attr\n",
    "        \n",
    "        # Predict\n",
    "        pred = model(x.float(), edge_index, edge_attr, data.batch)\n",
    "        \n",
    "        loss = criterion(pred, data.y.flatten())\n",
    "\n",
    "    score = roc_auc_score(data.y, pred.detach()[:,1])\n",
    "    print(\"VALIDATION LOSS: {0:.3f}, ROC-AUC: {1:.3f}\".format(loss.detach(), score))"
   ]
  },
  {
   "cell_type": "code",
   "execution_count": 9,
   "metadata": {},
   "outputs": [],
   "source": [
    "optimizer = optim.Adam(model.parameters(), 10**-learning_rate, weight_decay=10**-weight_decay)\n",
    "criterion = nn.CrossEntropyLoss()"
   ]
  },
  {
   "cell_type": "code",
   "execution_count": 11,
   "metadata": {},
   "outputs": [
    {
     "name": "stderr",
     "output_type": "stream",
     "text": [
      "24it [00:17,  1.38it/s]\n"
     ]
    },
    {
     "name": "stdout",
     "output_type": "stream",
     "text": [
      "EPOCH:\t0\n",
      "VALIDATION LOSS: 0.687, ROC-AUC: 0.605\n",
      "TEST LOSS: 0.628, ROC-AUC: 0.756\n"
     ]
    },
    {
     "name": "stderr",
     "output_type": "stream",
     "text": [
      "24it [00:17,  1.41it/s]\n"
     ]
    },
    {
     "name": "stdout",
     "output_type": "stream",
     "text": [
      "EPOCH:\t1\n",
      "VALIDATION LOSS: 0.765, ROC-AUC: 0.608\n",
      "TEST LOSS: 0.763, ROC-AUC: 0.747\n"
     ]
    },
    {
     "name": "stderr",
     "output_type": "stream",
     "text": [
      "24it [00:15,  1.52it/s]\n"
     ]
    },
    {
     "name": "stdout",
     "output_type": "stream",
     "text": [
      "EPOCH:\t2\n",
      "VALIDATION LOSS: 0.729, ROC-AUC: 0.606\n",
      "TEST LOSS: 0.710, ROC-AUC: 0.756\n"
     ]
    },
    {
     "name": "stderr",
     "output_type": "stream",
     "text": [
      "24it [00:15,  1.52it/s]\n"
     ]
    },
    {
     "name": "stdout",
     "output_type": "stream",
     "text": [
      "EPOCH:\t3\n",
      "VALIDATION LOSS: 0.686, ROC-AUC: 0.602\n",
      "TEST LOSS: 0.633, ROC-AUC: 0.761\n"
     ]
    },
    {
     "name": "stderr",
     "output_type": "stream",
     "text": [
      "24it [00:15,  1.55it/s]\n"
     ]
    },
    {
     "name": "stdout",
     "output_type": "stream",
     "text": [
      "EPOCH:\t4\n",
      "VALIDATION LOSS: 0.693, ROC-AUC: 0.602\n",
      "TEST LOSS: 0.638, ROC-AUC: 0.762\n"
     ]
    },
    {
     "name": "stderr",
     "output_type": "stream",
     "text": [
      "24it [00:15,  1.54it/s]\n"
     ]
    },
    {
     "name": "stdout",
     "output_type": "stream",
     "text": [
      "EPOCH:\t5\n",
      "VALIDATION LOSS: 0.694, ROC-AUC: 0.605\n",
      "TEST LOSS: 0.645, ROC-AUC: 0.761\n"
     ]
    },
    {
     "name": "stderr",
     "output_type": "stream",
     "text": [
      "24it [00:15,  1.57it/s]\n"
     ]
    },
    {
     "name": "stdout",
     "output_type": "stream",
     "text": [
      "EPOCH:\t6\n",
      "VALIDATION LOSS: 0.718, ROC-AUC: 0.607\n",
      "TEST LOSS: 0.710, ROC-AUC: 0.754\n"
     ]
    },
    {
     "name": "stderr",
     "output_type": "stream",
     "text": [
      "24it [00:16,  1.49it/s]\n"
     ]
    },
    {
     "name": "stdout",
     "output_type": "stream",
     "text": [
      "EPOCH:\t7\n",
      "VALIDATION LOSS: 0.726, ROC-AUC: 0.605\n",
      "TEST LOSS: 0.706, ROC-AUC: 0.760\n"
     ]
    },
    {
     "name": "stderr",
     "output_type": "stream",
     "text": [
      "22it [00:15,  1.39it/s]\n"
     ]
    },
    {
     "ename": "KeyboardInterrupt",
     "evalue": "",
     "output_type": "error",
     "traceback": [
      "\u001b[0;31m---------------------------------------------------------------------------\u001b[0m",
      "\u001b[0;31mKeyboardInterrupt\u001b[0m                         Traceback (most recent call last)",
      "\u001b[0;32m/var/folders/mh/wfzfv8nd3g7_8w30_pjfbhtr0000gn/T/ipykernel_69980/969937748.py\u001b[0m in \u001b[0;36m<module>\u001b[0;34m\u001b[0m\n\u001b[1;32m     13\u001b[0m         \u001b[0;31m# Update\u001b[0m\u001b[0;34m\u001b[0m\u001b[0;34m\u001b[0m\u001b[0;34m\u001b[0m\u001b[0m\n\u001b[1;32m     14\u001b[0m         \u001b[0mloss\u001b[0m \u001b[0;34m=\u001b[0m \u001b[0mcriterion\u001b[0m\u001b[0;34m(\u001b[0m\u001b[0mpred\u001b[0m\u001b[0;34m,\u001b[0m \u001b[0mdata\u001b[0m\u001b[0;34m.\u001b[0m\u001b[0my\u001b[0m\u001b[0;34m.\u001b[0m\u001b[0mflatten\u001b[0m\u001b[0;34m(\u001b[0m\u001b[0;34m)\u001b[0m\u001b[0;34m)\u001b[0m\u001b[0;34m\u001b[0m\u001b[0;34m\u001b[0m\u001b[0m\n\u001b[0;32m---> 15\u001b[0;31m         \u001b[0mloss\u001b[0m\u001b[0;34m.\u001b[0m\u001b[0mbackward\u001b[0m\u001b[0;34m(\u001b[0m\u001b[0;34m)\u001b[0m\u001b[0;34m\u001b[0m\u001b[0;34m\u001b[0m\u001b[0m\n\u001b[0m\u001b[1;32m     16\u001b[0m         \u001b[0moptimizer\u001b[0m\u001b[0;34m.\u001b[0m\u001b[0mstep\u001b[0m\u001b[0;34m(\u001b[0m\u001b[0;34m)\u001b[0m\u001b[0;34m\u001b[0m\u001b[0;34m\u001b[0m\u001b[0m\n\u001b[1;32m     17\u001b[0m     \u001b[0mprint\u001b[0m\u001b[0;34m(\u001b[0m\u001b[0;34m\"EPOCH:\\t{}\"\u001b[0m\u001b[0;34m.\u001b[0m\u001b[0mformat\u001b[0m\u001b[0;34m(\u001b[0m\u001b[0mepoch\u001b[0m\u001b[0;34m)\u001b[0m\u001b[0;34m)\u001b[0m\u001b[0;34m\u001b[0m\u001b[0;34m\u001b[0m\u001b[0m\n",
      "\u001b[0;32m~/miniforge3/envs/auglichem_3.8/lib/python3.8/site-packages/torch/tensor.py\u001b[0m in \u001b[0;36mbackward\u001b[0;34m(self, gradient, retain_graph, create_graph, inputs)\u001b[0m\n\u001b[1;32m    243\u001b[0m                 \u001b[0mcreate_graph\u001b[0m\u001b[0;34m=\u001b[0m\u001b[0mcreate_graph\u001b[0m\u001b[0;34m,\u001b[0m\u001b[0;34m\u001b[0m\u001b[0;34m\u001b[0m\u001b[0m\n\u001b[1;32m    244\u001b[0m                 inputs=inputs)\n\u001b[0;32m--> 245\u001b[0;31m         \u001b[0mtorch\u001b[0m\u001b[0;34m.\u001b[0m\u001b[0mautograd\u001b[0m\u001b[0;34m.\u001b[0m\u001b[0mbackward\u001b[0m\u001b[0;34m(\u001b[0m\u001b[0mself\u001b[0m\u001b[0;34m,\u001b[0m \u001b[0mgradient\u001b[0m\u001b[0;34m,\u001b[0m \u001b[0mretain_graph\u001b[0m\u001b[0;34m,\u001b[0m \u001b[0mcreate_graph\u001b[0m\u001b[0;34m,\u001b[0m \u001b[0minputs\u001b[0m\u001b[0;34m=\u001b[0m\u001b[0minputs\u001b[0m\u001b[0;34m)\u001b[0m\u001b[0;34m\u001b[0m\u001b[0;34m\u001b[0m\u001b[0m\n\u001b[0m\u001b[1;32m    246\u001b[0m \u001b[0;34m\u001b[0m\u001b[0m\n\u001b[1;32m    247\u001b[0m     \u001b[0;32mdef\u001b[0m \u001b[0mregister_hook\u001b[0m\u001b[0;34m(\u001b[0m\u001b[0mself\u001b[0m\u001b[0;34m,\u001b[0m \u001b[0mhook\u001b[0m\u001b[0;34m)\u001b[0m\u001b[0;34m:\u001b[0m\u001b[0;34m\u001b[0m\u001b[0;34m\u001b[0m\u001b[0m\n",
      "\u001b[0;32m~/miniforge3/envs/auglichem_3.8/lib/python3.8/site-packages/torch/autograd/__init__.py\u001b[0m in \u001b[0;36mbackward\u001b[0;34m(tensors, grad_tensors, retain_graph, create_graph, grad_variables, inputs)\u001b[0m\n\u001b[1;32m    143\u001b[0m         \u001b[0mretain_graph\u001b[0m \u001b[0;34m=\u001b[0m \u001b[0mcreate_graph\u001b[0m\u001b[0;34m\u001b[0m\u001b[0;34m\u001b[0m\u001b[0m\n\u001b[1;32m    144\u001b[0m \u001b[0;34m\u001b[0m\u001b[0m\n\u001b[0;32m--> 145\u001b[0;31m     Variable._execution_engine.run_backward(\n\u001b[0m\u001b[1;32m    146\u001b[0m         \u001b[0mtensors\u001b[0m\u001b[0;34m,\u001b[0m \u001b[0mgrad_tensors_\u001b[0m\u001b[0;34m,\u001b[0m \u001b[0mretain_graph\u001b[0m\u001b[0;34m,\u001b[0m \u001b[0mcreate_graph\u001b[0m\u001b[0;34m,\u001b[0m \u001b[0minputs\u001b[0m\u001b[0;34m,\u001b[0m\u001b[0;34m\u001b[0m\u001b[0;34m\u001b[0m\u001b[0m\n\u001b[1;32m    147\u001b[0m         allow_unreachable=True, accumulate_grad=True)  # allow_unreachable flag\n",
      "\u001b[0;31mKeyboardInterrupt\u001b[0m: "
     ]
    }
   ],
   "source": [
    "for epoch in range(epochs):\n",
    "    for bn, data in tqdm(enumerate(train_loader)):\n",
    "        optimizer.zero_grad()\n",
    "\n",
    "        # Get data\n",
    "        x = data.x\n",
    "        edge_index = data.edge_index\n",
    "        edge_attr = data.edge_attr\n",
    "        \n",
    "        # Predict\n",
    "        pred = model(x.float(), edge_index, edge_attr, data.batch)\n",
    "        \n",
    "        # Update\n",
    "        loss = criterion(pred, data.y.flatten())\n",
    "        loss.backward()\n",
    "        optimizer.step()\n",
    "    print(\"EPOCH:\\t{}\".format(epoch))\n",
    "    validate(model, val_loader)\n",
    "    evaluate(model, test_loader)"
   ]
  },
  {
   "cell_type": "code",
   "execution_count": null,
   "metadata": {},
   "outputs": [],
   "source": []
  }
 ],
 "metadata": {
  "kernelspec": {
   "display_name": "Python 3 (ipykernel)",
   "language": "python",
   "name": "python3"
  },
  "language_info": {
   "codemirror_mode": {
    "name": "ipython",
    "version": 3
   },
   "file_extension": ".py",
   "mimetype": "text/x-python",
   "name": "python",
   "nbconvert_exporter": "python",
   "pygments_lexer": "ipython3",
   "version": "3.8.10"
  }
 },
 "nbformat": 4,
 "nbformat_minor": 2
}
