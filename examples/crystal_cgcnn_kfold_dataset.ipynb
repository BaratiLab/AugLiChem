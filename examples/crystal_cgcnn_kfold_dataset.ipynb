{
 "cells": [
  {
   "cell_type": "markdown",
   "id": "e52af24e",
   "metadata": {},
   "source": [
    "### Imports"
   ]
  },
  {
   "cell_type": "code",
   "execution_count": 1,
   "id": "fdeea0fd",
   "metadata": {},
   "outputs": [],
   "source": [
    "import torch\n",
    "import warnings\n",
    "from tqdm import tqdm\n",
    "from torch.autograd import Variable\n",
    "from sklearn.metrics import mean_absolute_error"
   ]
  },
  {
   "cell_type": "markdown",
   "id": "f064887f",
   "metadata": {},
   "source": [
    "### Auglichem imports"
   ]
  },
  {
   "cell_type": "code",
   "execution_count": 2,
   "id": "a6bcf959",
   "metadata": {},
   "outputs": [],
   "source": [
    "from auglichem.crystal import (PerturbStructureTransformation,\n",
    "                               RotationTransformation,\n",
    "                               SwapAxesTransformation,\n",
    "                               TranslateSitesTransformation,\n",
    "                               SupercellTransformation,\n",
    ")\n",
    "from auglichem.crystal.data import CrystalDatasetWrapper\n",
    "from auglichem.crystal.models import CrystalGraphConvNet as CGCNN"
   ]
  },
  {
   "cell_type": "markdown",
   "id": "7125df85",
   "metadata": {},
   "source": [
    "### Set up dataset"
   ]
  },
  {
   "cell_type": "code",
   "execution_count": 3,
   "id": "2887799f",
   "metadata": {},
   "outputs": [
    {
     "name": "stdout",
     "output_type": "stream",
     "text": [
      "Data found at: ./data_download/lanths\n"
     ]
    }
   ],
   "source": [
    "# Create transformation\n",
    "transforms = [\n",
    "        PerturbStructureTransformation(distance=0.1, min_distance=0.01),\n",
    "        RotationTransformation(axis=[0,0,1], angle=90),\n",
    "        SwapAxesTransformation(),\n",
    "        TranslateSitesTransformation(indices_to_move=[0], translation_vector=[1,0,0],\n",
    "                                     vector_in_frac_coords=True),\n",
    "        SupercellTransformation(scaling_matrix=[[1,0,0],[0,1,0],[0,0,1]]),\n",
    "]\n",
    "\n",
    "# Initialize dataset object\n",
    "dataset = CrystalDatasetWrapper(\"lanthanides\", batch_size=256, folds=3,\n",
    "                                valid_size=0.1, test_size=0.1, cgcnn=True)\n"
   ]
  },
  {
   "cell_type": "markdown",
   "id": "1e818fdf",
   "metadata": {},
   "source": [
    "### Train the model"
   ]
  },
  {
   "cell_type": "code",
   "execution_count": 4,
   "id": "2855ac6b",
   "metadata": {},
   "outputs": [],
   "source": [
    "def train(model, train_loader):\n",
    "    with warnings.catch_warnings():\n",
    "        warnings.simplefilter(\"ignore\")\n",
    "        for epoch in range(1):\n",
    "            for bn, (data, target, _) in tqdm(enumerate(train_loader)):\n",
    "                optimizer.zero_grad()\n",
    "                input_var = (Variable(data[0]),\n",
    "                             Variable(data[1]),\n",
    "                             data[2],\n",
    "                             data[3])\n",
    "\n",
    "                pred = model(*input_var)\n",
    "                loss = criterion(pred, target)\n",
    "\n",
    "                loss.backward()\n",
    "                optimizer.step()\n",
    "    return model"
   ]
  },
  {
   "cell_type": "markdown",
   "id": "772cfea1",
   "metadata": {},
   "source": [
    "### Test the model"
   ]
  },
  {
   "cell_type": "code",
   "execution_count": 5,
   "id": "77baed2b",
   "metadata": {},
   "outputs": [],
   "source": [
    "def evaluate(model, test_loader, validation=False):\n",
    "    with torch.no_grad():\n",
    "        model.eval()\n",
    "        preds = torch.Tensor([])\n",
    "        targets = torch.Tensor([])\n",
    "        for data, target, _ in test_loader:\n",
    "            input_var = (Variable(data[0]),\n",
    "                         Variable(data[1]),\n",
    "                         data[2],\n",
    "                         data[3])\n",
    "\n",
    "            pred = model(*input_var)\n",
    "            \n",
    "            preds = torch.cat((preds, pred))\n",
    "            targets = torch.cat((targets, target))\n",
    "            \n",
    "        mae = mean_absolute_error(preds, targets)   \n",
    "    set_str = \"VALIDATION\" if(validation) else \"TEST\"\n",
    "    print(\"{0} MAE: {1:.3f}\".format(set_str, mae))"
   ]
  },
  {
   "cell_type": "markdown",
   "id": "072b1301",
   "metadata": {},
   "source": [
    "### Initialize model with task from data"
   ]
  },
  {
   "cell_type": "code",
   "execution_count": 6,
   "id": "1f47e690",
   "metadata": {},
   "outputs": [
    {
     "name": "stderr",
     "output_type": "stream",
     "text": [
      "/Users/clo/miniforge3/envs/auglichem/lib/python3.8/site-packages/pymatgen/io/cif.py:1165: UserWarning: Issues encountered while parsing CIF: Some fractional co-ordinates rounded to ideal values to avoid issues with finite precision.\n",
      "  warnings.warn(\"Issues encountered while parsing CIF: %s\" % \"\\n\".join(self.warnings))\n",
      "/var/folders/mh/wfzfv8nd3g7_8w30_pjfbhtr0000gn/T/ipykernel_59301/2719131338.py:6: RuntimeWarning: CrystalDataset._cgcnn must be set to True to use CGCNN properly.\n",
      "  model = CGCNN(orig_atom_fea_len, nbr_fea_len)\n",
      "100%|█████████████████████████████████████████████████████████| 3332/3332 [00:00<00:00, 53804.60it/s]\n"
     ]
    },
    {
     "name": "stdout",
     "output_type": "stream",
     "text": [
      "VALIDATION MAE: 14.597\n"
     ]
    },
    {
     "name": "stderr",
     "output_type": "stream",
     "text": [
      "/Users/clo/miniforge3/envs/auglichem/lib/python3.8/site-packages/pymatgen/io/cif.py:1165: UserWarning: Issues encountered while parsing CIF: Some fractional co-ordinates rounded to ideal values to avoid issues with finite precision.\n",
      "  warnings.warn(\"Issues encountered while parsing CIF: %s\" % \"\\n\".join(self.warnings))\n"
     ]
    },
    {
     "name": "stdout",
     "output_type": "stream",
     "text": [
      "TEST MAE: 14.514\n"
     ]
    }
   ],
   "source": [
    "# Get model\n",
    "structures, _, _ = dataset[0]\n",
    "orig_atom_fea_len = structures[0].shape[-1]\n",
    "nbr_fea_len = structures[1].shape[-1]\n",
    "\n",
    "model = CGCNN(orig_atom_fea_len, nbr_fea_len)\n",
    "\n",
    "criterion = torch.nn.MSELoss()\n",
    "optimizer = torch.optim.Adam(model.parameters(), lr=1e-3, weight_decay=1e-5)\n",
    "\n",
    "# Get train/valid/test splits as loaders\n",
    "train_loader, valid_loader, test_loader = dataset.get_data_loaders(transform=transforms, fold=0)\n",
    "\n",
    "evaluate(model, valid_loader, validation=True)\n",
    "evaluate(model, test_loader)"
   ]
  },
  {
   "cell_type": "code",
   "execution_count": 7,
   "id": "32f9cf2c",
   "metadata": {},
   "outputs": [
    {
     "name": "stderr",
     "output_type": "stream",
     "text": [
      "/var/folders/mh/wfzfv8nd3g7_8w30_pjfbhtr0000gn/T/ipykernel_59301/1765647205.py:6: RuntimeWarning: CrystalDataset._cgcnn must be set to True to use CGCNN properly.\n",
      "  model = CGCNN(orig_atom_fea_len, nbr_fea_len)\n",
      "100%|█████████████████████████████████████████████████████████| 3332/3332 [00:00<00:00, 25026.41it/s]\n",
      "/Users/clo/miniforge3/envs/auglichem/lib/python3.8/site-packages/pymatgen/io/cif.py:1165: UserWarning: Issues encountered while parsing CIF: Some fractional co-ordinates rounded to ideal values to avoid issues with finite precision.\n",
      "  warnings.warn(\"Issues encountered while parsing CIF: %s\" % \"\\n\".join(self.warnings))\n"
     ]
    },
    {
     "name": "stdout",
     "output_type": "stream",
     "text": [
      "VALIDATION MAE: 1.366\n"
     ]
    },
    {
     "name": "stderr",
     "output_type": "stream",
     "text": [
      "/Users/clo/miniforge3/envs/auglichem/lib/python3.8/site-packages/pymatgen/io/cif.py:1165: UserWarning: Issues encountered while parsing CIF: Some fractional co-ordinates rounded to ideal values to avoid issues with finite precision.\n",
      "  warnings.warn(\"Issues encountered while parsing CIF: %s\" % \"\\n\".join(self.warnings))\n"
     ]
    },
    {
     "name": "stdout",
     "output_type": "stream",
     "text": [
      "TEST MAE: 1.286\n"
     ]
    }
   ],
   "source": [
    "# Get model\n",
    "structures, _, _ = dataset[0]\n",
    "orig_atom_fea_len = structures[0].shape[-1]\n",
    "nbr_fea_len = structures[1].shape[-1]\n",
    "\n",
    "model = CGCNN(orig_atom_fea_len, nbr_fea_len)\n",
    "\n",
    "criterion = torch.nn.MSELoss()\n",
    "optimizer = torch.optim.Adam(model.parameters(), lr=1e-3, weight_decay=1e-5)\n",
    "\n",
    "# Get train/valid/test splits as loaders\n",
    "train_loader, valid_loader, test_loader = dataset.get_data_loaders(transform=transforms, fold=1)\n",
    "\n",
    "evaluate(model, valid_loader, validation=True)\n",
    "evaluate(model, test_loader)"
   ]
  },
  {
   "cell_type": "code",
   "execution_count": 8,
   "id": "2a0df608",
   "metadata": {},
   "outputs": [
    {
     "name": "stderr",
     "output_type": "stream",
     "text": [
      "/var/folders/mh/wfzfv8nd3g7_8w30_pjfbhtr0000gn/T/ipykernel_59301/2820312521.py:6: RuntimeWarning: CrystalDataset._cgcnn must be set to True to use CGCNN properly.\n",
      "  model = CGCNN(orig_atom_fea_len, nbr_fea_len)\n",
      "100%|█████████████████████████████████████████████████████████| 3332/3332 [00:00<00:00, 56328.20it/s]\n",
      "/Users/clo/miniforge3/envs/auglichem/lib/python3.8/site-packages/pymatgen/io/cif.py:1165: UserWarning: Issues encountered while parsing CIF: Some fractional co-ordinates rounded to ideal values to avoid issues with finite precision.\n",
      "  warnings.warn(\"Issues encountered while parsing CIF: %s\" % \"\\n\".join(self.warnings))\n"
     ]
    },
    {
     "name": "stdout",
     "output_type": "stream",
     "text": [
      "VALIDATION MAE: 1.819\n"
     ]
    },
    {
     "name": "stderr",
     "output_type": "stream",
     "text": [
      "/Users/clo/miniforge3/envs/auglichem/lib/python3.8/site-packages/pymatgen/io/cif.py:1165: UserWarning: Issues encountered while parsing CIF: Some fractional co-ordinates rounded to ideal values to avoid issues with finite precision.\n",
      "  warnings.warn(\"Issues encountered while parsing CIF: %s\" % \"\\n\".join(self.warnings))\n"
     ]
    },
    {
     "name": "stdout",
     "output_type": "stream",
     "text": [
      "TEST MAE: 1.965\n"
     ]
    }
   ],
   "source": [
    "# Get model\n",
    "structures, _, _ = dataset[0]\n",
    "orig_atom_fea_len = structures[0].shape[-1]\n",
    "nbr_fea_len = structures[1].shape[-1]\n",
    "\n",
    "model = CGCNN(orig_atom_fea_len, nbr_fea_len)\n",
    "\n",
    "criterion = torch.nn.MSELoss()\n",
    "optimizer = torch.optim.Adam(model.parameters(), lr=1e-3, weight_decay=1e-5)\n",
    "\n",
    "# Get train/valid/test splits as loaders\n",
    "train_loader, valid_loader, test_loader = dataset.get_data_loaders(transform=transforms, fold=2)\n",
    "\n",
    "evaluate(model, valid_loader, validation=True)\n",
    "evaluate(model, test_loader)"
   ]
  },
  {
   "cell_type": "code",
   "execution_count": null,
   "id": "75f33381",
   "metadata": {},
   "outputs": [],
   "source": []
  }
 ],
 "metadata": {
  "kernelspec": {
   "display_name": "Python 3 (ipykernel)",
   "language": "python",
   "name": "python3"
  },
  "language_info": {
   "codemirror_mode": {
    "name": "ipython",
    "version": 3
   },
   "file_extension": ".py",
   "mimetype": "text/x-python",
   "name": "python",
   "nbconvert_exporter": "python",
   "pygments_lexer": "ipython3",
   "version": "3.8.12"
  }
 },
 "nbformat": 4,
 "nbformat_minor": 5
}
