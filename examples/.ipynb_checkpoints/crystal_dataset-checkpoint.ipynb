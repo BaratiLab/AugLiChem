{
 "cells": [
  {
   "cell_type": "markdown",
   "id": "d2d49e3c",
   "metadata": {},
   "source": [
    "### Set Path (Won't be needed once `setup.py` is finished)"
   ]
  },
  {
   "cell_type": "code",
   "execution_count": 1,
   "id": "c7d37a8f",
   "metadata": {},
   "outputs": [],
   "source": [
    "import sys\n",
    "sys.path.insert(0, sys.path[0][:-8])"
   ]
  },
  {
   "cell_type": "code",
   "execution_count": 2,
   "id": "a9214247",
   "metadata": {},
   "outputs": [],
   "source": [
    "import torch\n",
    "import warnings\n",
    "from tqdm import tqdm\n",
    "from torch.autograd import Variable\n",
    "from sklearn.metrics import mean_absolute_error"
   ]
  },
  {
   "cell_type": "markdown",
   "id": "f9eec470",
   "metadata": {},
   "source": [
    "### Auglichem imports"
   ]
  },
  {
   "cell_type": "code",
   "execution_count": 3,
   "id": "f159194c",
   "metadata": {},
   "outputs": [],
   "source": [
    "from auglichem.crystal import Compose, RotationTransformation, SupercellTransformation\n",
    "from auglichem.crystal.data import CrystalDatasetWrapper\n",
    "from auglichem.crystal.models import SchNet, GINet\n",
    "from auglichem.crystal.models import GINet"
   ]
  },
  {
   "cell_type": "markdown",
   "id": "2d43e54e",
   "metadata": {},
   "source": [
    "### Set up dataset"
   ]
  },
  {
   "cell_type": "code",
   "execution_count": 4,
   "id": "f8ef021a",
   "metadata": {
    "scrolled": true
   },
   "outputs": [],
   "source": [
    "#help(CrystalDatasetWrapper)"
   ]
  },
  {
   "cell_type": "code",
   "execution_count": 5,
   "id": "31d84013",
   "metadata": {},
   "outputs": [],
   "source": [
    "#help(CrystalDatasetWrapper.__init__)"
   ]
  },
  {
   "cell_type": "code",
   "execution_count": 6,
   "id": "6068e947",
   "metadata": {},
   "outputs": [
    {
     "name": "stderr",
     "output_type": "stream",
     "text": [
      "100%|████████████████████████████████████████████████████████| 3332/3332 [00:00<00:00, 240115.13it/s]\n"
     ]
    }
   ],
   "source": [
    "# Create transformation\n",
    "transform = [\n",
    "    SupercellTransformation(),\n",
    "]\n",
    "\n",
    "# Initialize dataset object\n",
    "dataset = CrystalDatasetWrapper(\"lanthanides\", batch_size=128,\n",
    "                                valid_size=0.1, test_size=0.1)\n",
    "\n",
    "# Get train/valid/test splits as loaders\n",
    "train_loader, valid_loader, test_loader = dataset.get_data_loaders(transform=transform)"
   ]
  },
  {
   "cell_type": "markdown",
   "id": "89d4a737",
   "metadata": {},
   "source": [
    "### Initialize model with task from data"
   ]
  },
  {
   "cell_type": "code",
   "execution_count": 7,
   "id": "6b8bc773",
   "metadata": {},
   "outputs": [],
   "source": [
    "# Get model\n",
    "model = GINet() # Note: SchNet and GINet are interchangeable in use cases"
   ]
  },
  {
   "cell_type": "markdown",
   "id": "6dabddda",
   "metadata": {},
   "source": [
    "### Initialize traning loop"
   ]
  },
  {
   "cell_type": "code",
   "execution_count": 8,
   "id": "ff61bb9d",
   "metadata": {},
   "outputs": [],
   "source": [
    "criterion = torch.nn.MSELoss()\n",
    "optimizer = torch.optim.Adam(model.parameters(), lr=1e-3, weight_decay=1e-5)"
   ]
  },
  {
   "cell_type": "markdown",
   "id": "3f45f87f",
   "metadata": {},
   "source": [
    "### Train the model"
   ]
  },
  {
   "cell_type": "code",
   "execution_count": 9,
   "id": "827c88e9",
   "metadata": {},
   "outputs": [
    {
     "name": "stderr",
     "output_type": "stream",
     "text": [
      "53it [02:01,  2.29s/it]\n"
     ]
    }
   ],
   "source": [
    "with warnings.catch_warnings():\n",
    "    warnings.simplefilter(\"ignore\")\n",
    "    for epoch in range(1):\n",
    "        for bn, data in tqdm(enumerate(train_loader)):        \n",
    "            optimizer.zero_grad()\n",
    "\n",
    "            pred = model(data)\n",
    "            loss = criterion(pred, data.y)\n",
    "\n",
    "            loss.backward()\n",
    "            optimizer.step()"
   ]
  },
  {
   "cell_type": "markdown",
   "id": "558838e0",
   "metadata": {},
   "source": [
    "### Test the model"
   ]
  },
  {
   "cell_type": "code",
   "execution_count": 10,
   "id": "a12118ba",
   "metadata": {},
   "outputs": [],
   "source": [
    "def evaluate(model, test_loader, validation=False):\n",
    "    with warnings.catch_warnings():\n",
    "        warnings.simplefilter(\"ignore\")\n",
    "        with torch.no_grad():\n",
    "            model.eval()\n",
    "            preds = torch.Tensor([])\n",
    "            targets = torch.Tensor([])\n",
    "            for data in test_loader:\n",
    "                pred = model(data)\n",
    "                preds = torch.cat((preds, pred))\n",
    "                targets = torch.cat((targets, data.y))\n",
    "\n",
    "            mae = mean_absolute_error(preds, targets)   \n",
    "        \n",
    "        set_str = \"VALIDATION\" if(validation) else \"TEST\"\n",
    "        print(\"{0} MAE: {1:.3f}\".format(set_str, mae))"
   ]
  },
  {
   "cell_type": "code",
   "execution_count": 11,
   "id": "02d06ffa",
   "metadata": {},
   "outputs": [
    {
     "name": "stdout",
     "output_type": "stream",
     "text": [
      "VALIDATION MAE: 0.013\n",
      "TEST MAE: 0.012\n"
     ]
    }
   ],
   "source": [
    "evaluate(model, valid_loader, validation=True)\n",
    "evaluate(model, test_loader)"
   ]
  },
  {
   "cell_type": "markdown",
   "id": "c272546e",
   "metadata": {},
   "source": [
    "### Model saving/loading example"
   ]
  },
  {
   "cell_type": "code",
   "execution_count": 12,
   "id": "3016e288",
   "metadata": {},
   "outputs": [],
   "source": [
    "# Save model\n",
    "torch.save(model.state_dict(), \"./saved_models/example_gin\")"
   ]
  },
  {
   "cell_type": "code",
   "execution_count": 13,
   "id": "a53ce66f",
   "metadata": {},
   "outputs": [
    {
     "name": "stdout",
     "output_type": "stream",
     "text": [
      "VALIDATION MAE: 0.628\n",
      "TEST MAE: 0.635\n"
     ]
    }
   ],
   "source": [
    "# Instantiate new model and evaluate\n",
    "model = GINet()\n",
    "\n",
    "evaluate(model, valid_loader, validation=True)\n",
    "evaluate(model, test_loader)"
   ]
  },
  {
   "cell_type": "code",
   "execution_count": 14,
   "id": "4dea9d36",
   "metadata": {},
   "outputs": [
    {
     "name": "stdout",
     "output_type": "stream",
     "text": [
      "VALIDATION MAE: 0.013\n",
      "TEST MAE: 0.012\n"
     ]
    }
   ],
   "source": [
    "# Load saved model and evaluate\n",
    "model.load_state_dict(torch.load(\"./saved_models/example_gin\"))\n",
    "evaluate(model, valid_loader, validation=True)\n",
    "evaluate(model, test_loader)"
   ]
  },
  {
   "cell_type": "code",
   "execution_count": null,
   "id": "79f9b873",
   "metadata": {},
   "outputs": [],
   "source": []
  }
 ],
 "metadata": {
  "kernelspec": {
   "display_name": "Python 3 (ipykernel)",
   "language": "python",
   "name": "python3"
  },
  "language_info": {
   "codemirror_mode": {
    "name": "ipython",
    "version": 3
   },
   "file_extension": ".py",
   "mimetype": "text/x-python",
   "name": "python",
   "nbconvert_exporter": "python",
   "pygments_lexer": "ipython3",
   "version": "3.8.11"
  }
 },
 "nbformat": 4,
 "nbformat_minor": 5
}
