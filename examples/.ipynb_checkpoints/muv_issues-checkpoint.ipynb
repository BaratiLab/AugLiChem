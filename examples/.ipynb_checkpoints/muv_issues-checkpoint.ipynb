{
 "cells": [
  {
   "cell_type": "markdown",
   "id": "e52af24e",
   "metadata": {},
   "source": [
    "### Set Path (Won't be needed once `setup.py` is finished)"
   ]
  },
  {
   "cell_type": "code",
   "execution_count": 1,
   "id": "022cd9ff",
   "metadata": {},
   "outputs": [],
   "source": [
    "import sys\n",
    "sys.path.append(sys.path[0][:-8])"
   ]
  },
  {
   "cell_type": "code",
   "execution_count": 2,
   "id": "fdeea0fd",
   "metadata": {},
   "outputs": [],
   "source": [
    "import torch\n",
    "from tqdm import tqdm\n",
    "\n",
    "from rdkit import Chem\n",
    "from rdkit.Chem import Draw\n",
    "from matplotlib import pyplot as plt"
   ]
  },
  {
   "cell_type": "markdown",
   "id": "f064887f",
   "metadata": {},
   "source": [
    "### Auglichem imports"
   ]
  },
  {
   "cell_type": "code",
   "execution_count": 3,
   "id": "a6bcf959",
   "metadata": {},
   "outputs": [],
   "source": [
    "from auglichem.molecule import Compose, RandomAtomMask, RandomBondDelete\n",
    "from auglichem.molecule.data import MoleculeDatasetWrapper\n",
    "from auglichem.molecule.models import GCN"
   ]
  },
  {
   "cell_type": "markdown",
   "id": "7125df85",
   "metadata": {},
   "source": [
    "### Set up dataset"
   ]
  },
  {
   "cell_type": "code",
   "execution_count": null,
   "id": "2887799f",
   "metadata": {},
   "outputs": [
    {
     "name": "stdout",
     "output_type": "stream",
     "text": [
      "Downloading https://deepchemdata.s3-us-west-1.amazonaws.com/datasets/muv.csv.gz to ./data_download/muv.csv.gz\n"
     ]
    },
    {
     "name": "stderr",
     "output_type": "stream",
     "text": [
      "1756160it [00:00, 3188462.85it/s]                                                                    \n"
     ]
    },
    {
     "name": "stdout",
     "output_type": "stream",
     "text": [
      "DATASET: MUV\n"
     ]
    },
    {
     "name": "stderr",
     "output_type": "stream",
     "text": [
      "74117it [01:48, 671.60it/s]"
     ]
    }
   ],
   "source": [
    "# Create transformation\n",
    "transform = Compose([\n",
    "    RandomAtomMask([0.1, 0.3]),\n",
    "    RandomBondDelete([0.1, 0.3])\n",
    "])\n",
    "\n",
    "# Initialize dataset object\n",
    "dataset = MoleculeDatasetWrapper(\"MUV\", transform=transform, batch_size=512)\n",
    "\n",
    "# Get train/valid/test splits as loaders\n",
    "train_loader, valid_loader, test_loader = dataset.get_data_loaders()"
   ]
  },
  {
   "cell_type": "markdown",
   "id": "072b1301",
   "metadata": {},
   "source": [
    "### Initialize model with task from data"
   ]
  },
  {
   "cell_type": "code",
   "execution_count": 5,
   "id": "1f47e690",
   "metadata": {},
   "outputs": [],
   "source": [
    "# Get model\n",
    "model = GCN(task=dataset.task)"
   ]
  },
  {
   "cell_type": "markdown",
   "id": "2c48a46f",
   "metadata": {},
   "source": [
    "### Initialize traning loop"
   ]
  },
  {
   "cell_type": "code",
   "execution_count": 6,
   "id": "4981f4ca",
   "metadata": {},
   "outputs": [],
   "source": [
    "criterion = torch.nn.CrossEntropyLoss()\n",
    "optimizer = torch.optim.Adam(model.parameters(), lr=1e-3, weight_decay=1e-5)"
   ]
  },
  {
   "cell_type": "markdown",
   "id": "1e818fdf",
   "metadata": {},
   "source": [
    "### Train the model"
   ]
  },
  {
   "cell_type": "code",
   "execution_count": 7,
   "id": "2855ac6b",
   "metadata": {},
   "outputs": [
    {
     "name": "stderr",
     "output_type": "stream",
     "text": [
      "100%|████████████████████████████████████████████████████████████████| 10/10 [01:44<00:00, 10.44s/it]\n"
     ]
    }
   ],
   "source": [
    "for epoch in tqdm(range(10)):\n",
    "    for bn, data in enumerate(train_loader):\n",
    "        optimizer.zero_grad()\n",
    "        \n",
    "        _, pred = model(data)\n",
    "        loss = criterion(pred, data.y.flatten())\n",
    "        \n",
    "        loss.backward()\n",
    "        optimizer.step()"
   ]
  },
  {
   "cell_type": "markdown",
   "id": "772cfea1",
   "metadata": {},
   "source": [
    "### Test the model"
   ]
  },
  {
   "cell_type": "code",
   "execution_count": 24,
   "id": "c81f966f",
   "metadata": {},
   "outputs": [],
   "source": [
    "def evaluate(model, test_loader):\n",
    "    with torch.no_grad():\n",
    "        model.eval()\n",
    "        data = next(iter(test_loader))\n",
    "        _, pred = model(next(iter(test_loader)))\n",
    "        loss = criterion(pred, data.y.flatten())\n",
    "\n",
    "    print(\"TEST LOSS: {0:.3f}\".format(loss.detach()))"
   ]
  },
  {
   "cell_type": "code",
   "execution_count": 25,
   "id": "092df20d",
   "metadata": {},
   "outputs": [
    {
     "name": "stdout",
     "output_type": "stream",
     "text": [
      "TEST LOSS: 2.098\n"
     ]
    }
   ],
   "source": [
    "evaluate(model, test_loader)"
   ]
  },
  {
   "cell_type": "markdown",
   "id": "09bc37df",
   "metadata": {},
   "source": [
    "### Model saving/loading example"
   ]
  },
  {
   "cell_type": "code",
   "execution_count": 27,
   "id": "47a4c105",
   "metadata": {},
   "outputs": [],
   "source": [
    "# Save model\n",
    "torch.save(model.state_dict(), \"./saved_models/example_gcn\")"
   ]
  },
  {
   "cell_type": "code",
   "execution_count": 41,
   "id": "f6cafea4",
   "metadata": {},
   "outputs": [
    {
     "name": "stdout",
     "output_type": "stream",
     "text": [
      "TEST LOSS: 4.111\n"
     ]
    },
    {
     "data": {
      "text/plain": [
       "0.36557971014492757"
      ]
     },
     "execution_count": 41,
     "metadata": {},
     "output_type": "execute_result"
    }
   ],
   "source": [
    "# Instantiate new model and evaluate\n",
    "model = GCN(task=dataset.task)\n",
    "evaluate(model, test_loader)\n",
    "data = next(iter(test_loader))\n",
    "_, pred = model(next(iter(test_loader)))\n",
    "ras(data.y, pred.detach()[:,1])"
   ]
  },
  {
   "cell_type": "code",
   "execution_count": 42,
   "id": "1a559e08",
   "metadata": {},
   "outputs": [
    {
     "name": "stdout",
     "output_type": "stream",
     "text": [
      "TEST LOSS: 2.098\n"
     ]
    }
   ],
   "source": [
    "# Load saved model and evaluate\n",
    "model.load_state_dict(torch.load(\"./saved_models/example_gcn\"))\n",
    "evaluate(model, test_loader)"
   ]
  },
  {
   "cell_type": "code",
   "execution_count": 43,
   "id": "8fe795c4",
   "metadata": {},
   "outputs": [],
   "source": [
    "from sklearn.metrics import roc_auc_score as ras"
   ]
  },
  {
   "cell_type": "code",
   "execution_count": 44,
   "id": "2ae57528",
   "metadata": {},
   "outputs": [
    {
     "data": {
      "text/plain": [
       "0.39221014492753625"
      ]
     },
     "execution_count": 44,
     "metadata": {},
     "output_type": "execute_result"
    }
   ],
   "source": [
    "data = next(iter(test_loader))\n",
    "_, pred = model(next(iter(test_loader)))\n",
    "ras(data.y, pred.detach()[:,1])"
   ]
  },
  {
   "cell_type": "code",
   "execution_count": 45,
   "id": "85ccb84e",
   "metadata": {},
   "outputs": [
    {
     "ename": "ModuleNotFoundError",
     "evalue": "No module named 'deepchem'",
     "output_type": "error",
     "traceback": [
      "\u001b[0;31m---------------------------------------------------------------------------\u001b[0m",
      "\u001b[0;31mModuleNotFoundError\u001b[0m                       Traceback (most recent call last)",
      "\u001b[0;32m/var/folders/mh/wfzfv8nd3g7_8w30_pjfbhtr0000gn/T/ipykernel_7493/2397684471.py\u001b[0m in \u001b[0;36m<module>\u001b[0;34m\u001b[0m\n\u001b[0;32m----> 1\u001b[0;31m \u001b[0;32mimport\u001b[0m \u001b[0mdeepchem\u001b[0m\u001b[0;34m\u001b[0m\u001b[0;34m\u001b[0m\u001b[0m\n\u001b[0m",
      "\u001b[0;31mModuleNotFoundError\u001b[0m: No module named 'deepchem'"
     ]
    }
   ],
   "source": [
    "import deepchem"
   ]
  },
  {
   "cell_type": "code",
   "execution_count": null,
   "id": "d193cb74",
   "metadata": {},
   "outputs": [],
   "source": []
  }
 ],
 "metadata": {
  "kernelspec": {
   "display_name": "Python 3 (ipykernel)",
   "language": "python",
   "name": "python3"
  },
  "language_info": {
   "codemirror_mode": {
    "name": "ipython",
    "version": 3
   },
   "file_extension": ".py",
   "mimetype": "text/x-python",
   "name": "python",
   "nbconvert_exporter": "python",
   "pygments_lexer": "ipython3",
   "version": "3.8.11"
  }
 },
 "nbformat": 4,
 "nbformat_minor": 5
}
