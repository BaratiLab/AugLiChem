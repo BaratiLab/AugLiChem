{
 "cells": [
  {
   "cell_type": "markdown",
   "id": "e52af24e",
   "metadata": {},
   "source": [
    "### Set Path (Won't be needed once `setup.py` is finished)"
   ]
  },
  {
   "cell_type": "code",
   "execution_count": 1,
   "id": "022cd9ff",
   "metadata": {},
   "outputs": [],
   "source": [
    "import sys\n",
    "sys.path.append(sys.path[0][:-8])"
   ]
  },
  {
   "cell_type": "code",
   "execution_count": 2,
   "id": "fdeea0fd",
   "metadata": {},
   "outputs": [],
   "source": [
    "import torch\n",
    "import os\n",
    "from tqdm import tqdm\n",
    "\n",
    "from rdkit import Chem\n",
    "from rdkit import RDLogger\n",
    "RDLogger.DisableLog('rdApp.*')                                                                                                                                                       \n",
    "\n",
    "from rdkit.Chem import Draw\n",
    "from matplotlib import pyplot as plt\n",
    "\n",
    "from sklearn.metrics import roc_auc_score as ras\n",
    "from sklearn.metrics import mean_squared_error as mse"
   ]
  },
  {
   "cell_type": "markdown",
   "id": "f064887f",
   "metadata": {},
   "source": [
    "### Auglichem imports"
   ]
  },
  {
   "cell_type": "code",
   "execution_count": 3,
   "id": "a6bcf959",
   "metadata": {},
   "outputs": [],
   "source": [
    "from auglichem.molecule import Compose, RandomAtomMask, RandomBondDelete\n",
    "from auglichem.molecule.data import MoleculeDatasetWrapper\n",
    "from auglichem.molecule.models import GCN, AttentiveFP, GINE, DeepGCN"
   ]
  },
  {
   "cell_type": "markdown",
   "id": "7125df85",
   "metadata": {},
   "source": [
    "### Set up dataset"
   ]
  },
  {
   "cell_type": "code",
   "execution_count": 4,
   "id": "027e63c1",
   "metadata": {
    "scrolled": true
   },
   "outputs": [
    {
     "name": "stdout",
     "output_type": "stream",
     "text": [
      "Help on class MoleculeDatasetWrapper in module auglichem.molecule.data._molecule_dataset:\n",
      "\n",
      "class MoleculeDatasetWrapper(MoleculeDataset)\n",
      " |  MoleculeDatasetWrapper(*args, **kwds)\n",
      " |  \n",
      " |  Dataset base class for creating graph datasets.\n",
      " |  See `here <https://pytorch-geometric.readthedocs.io/en/latest/notes/\n",
      " |  create_dataset.html>`__ for the accompanying tutorial.\n",
      " |  \n",
      " |  Args:\n",
      " |      root (string, optional): Root directory where the dataset should be\n",
      " |          saved. (optional: :obj:`None`)\n",
      " |      transform (callable, optional): A function/transform that takes in an\n",
      " |          :obj:`torch_geometric.data.Data` object and returns a transformed\n",
      " |          version. The data object will be transformed before every access.\n",
      " |          (default: :obj:`None`)\n",
      " |      pre_transform (callable, optional): A function/transform that takes in\n",
      " |          an :obj:`torch_geometric.data.Data` object and returns a\n",
      " |          transformed version. The data object will be transformed before\n",
      " |          being saved to disk. (default: :obj:`None`)\n",
      " |      pre_filter (callable, optional): A function that takes in an\n",
      " |          :obj:`torch_geometric.data.Data` object and returns a boolean\n",
      " |          value, indicating whether the data object should be included in the\n",
      " |          final dataset. (default: :obj:`None`)\n",
      " |  \n",
      " |  Method resolution order:\n",
      " |      MoleculeDatasetWrapper\n",
      " |      MoleculeDataset\n",
      " |      torch_geometric.data.dataset.Dataset\n",
      " |      torch.utils.data.dataset.Dataset\n",
      " |      typing.Generic\n",
      " |      builtins.object\n",
      " |  \n",
      " |  Methods defined here:\n",
      " |  \n",
      " |  __init__(self, dataset, transform=None, split='scaffold', batch_size=64, num_workers=0, valid_size=0.1, test_size=0.1, aug_time=0, data_path=None, target=None, seed=None)\n",
      " |      Input:\n",
      " |      ---\n",
      " |      dataset (str): One of the datasets available from MoleculeNet\n",
      " |                     (http://moleculenet.ai/datasets-1)\n",
      " |      transform (Compose, OneOf, RandomAtomMask, RandomBondDelete object): transormations\n",
      " |                     to apply to the data at call time.\n",
      " |      split (str, optional default=scaffold): random or scaffold. The splitting strategy\n",
      " |                                              used for train/test/validation set creation.\n",
      " |      batch_size (int, optional default=64): Batch size used in training\n",
      " |      num_workers (int, optional default=0): Number of workers used in loading data\n",
      " |      valid_size (float in [0,1], optional default=0.1): \n",
      " |      test_size (float in [0,1],  optional default=0.1): \n",
      " |      aug_time (int, optional default=1):\n",
      " |      data_path (str, optional default=None): specify path to save/lookup data. Default\n",
      " |                  creates `data_download` directory and stores data there\n",
      " |      target (str, optional, default=None): Target variable\n",
      " |      seed (int, optional, default=None): Random seed to use for reproducibility\n",
      " |      \n",
      " |      \n",
      " |      Output:\n",
      " |      ---\n",
      " |      None\n",
      " |  \n",
      " |  get_data_loaders(self, target=None)\n",
      " |      Returns torch_geometric DataLoaders for train/validation/test splits. These can\n",
      " |      be iterated over and are ideal for training and evaluating models.\n",
      " |      \n",
      " |      Inputs:\n",
      " |      -------\n",
      " |      target (str, optional): Target name to get data loaders for. If None, returns the\n",
      " |                            loaders for the first target. If 'all' returns data for\n",
      " |                            all targets at once, ideal for multitarget trainimg.\n",
      " |      \n",
      " |      Outputs:\n",
      " |      --------\n",
      " |      train/valid/test_loader (DataLoader): Data loaders containing the train, validation\n",
      " |                            and test splits of our data.\n",
      " |  \n",
      " |  ----------------------------------------------------------------------\n",
      " |  Data and other attributes defined here:\n",
      " |  \n",
      " |  __parameters__ = ()\n",
      " |  \n",
      " |  ----------------------------------------------------------------------\n",
      " |  Methods inherited from MoleculeDataset:\n",
      " |  \n",
      " |  __getitem__(self, index)\n",
      " |      Selects an element of self.smiles_data according to the index.\n",
      " |      Edge and node masking are done here for each individual molecule\n",
      " |      \n",
      " |      Input:\n",
      " |      -----------------------------------\n",
      " |      index (int): Index of molecule we would like to augment\n",
      " |      \n",
      " |      Output:\n",
      " |      -----------------------------------\n",
      " |      masked_data (Data object): data that has been augmented with node and edge masking\n",
      " |  \n",
      " |  __len__(self)\n",
      " |      The number of examples in the dataset.\n",
      " |  \n",
      " |  ----------------------------------------------------------------------\n",
      " |  Methods inherited from torch_geometric.data.dataset.Dataset:\n",
      " |  \n",
      " |  __repr__(self) -> str\n",
      " |      Return repr(self).\n",
      " |  \n",
      " |  download(self)\n",
      " |      Downloads the dataset to the :obj:`self.raw_dir` folder.\n",
      " |  \n",
      " |  get(self, idx: int) -> torch_geometric.data.data.Data\n",
      " |      Gets the data object at index :obj:`idx`.\n",
      " |  \n",
      " |  index_select(self, idx: Union[slice, torch.Tensor, numpy.ndarray, collections.abc.Sequence]) -> 'Dataset'\n",
      " |  \n",
      " |  indices(self) -> collections.abc.Sequence\n",
      " |  \n",
      " |  len(self) -> int\n",
      " |  \n",
      " |  process(self)\n",
      " |      Processes the dataset to the :obj:`self.processed_dir` folder.\n",
      " |  \n",
      " |  shuffle(self, return_perm: bool = False) -> Union[ForwardRef('Dataset'), Tuple[ForwardRef('Dataset'), torch.Tensor]]\n",
      " |      Randomly shuffles the examples in the dataset.\n",
      " |      \n",
      " |      Args:\n",
      " |          return_perm (bool, optional): If set to :obj:`True`, will return\n",
      " |              the random permutation used to shuffle the dataset in addition.\n",
      " |              (default: :obj:`False`)\n",
      " |  \n",
      " |  ----------------------------------------------------------------------\n",
      " |  Readonly properties inherited from torch_geometric.data.dataset.Dataset:\n",
      " |  \n",
      " |  num_edge_features\n",
      " |      Returns the number of features per edge in the dataset.\n",
      " |  \n",
      " |  num_features\n",
      " |      Alias for :py:attr:`~num_node_features`.\n",
      " |  \n",
      " |  num_node_features\n",
      " |      Returns the number of features per node in the dataset.\n",
      " |  \n",
      " |  processed_dir\n",
      " |  \n",
      " |  processed_file_names\n",
      " |      The name of the files to find in the :obj:`self.processed_dir`\n",
      " |      folder in order to skip the processing.\n",
      " |  \n",
      " |  processed_paths\n",
      " |      The filepaths to find in the :obj:`self.processed_dir`\n",
      " |      folder in order to skip the processing.\n",
      " |  \n",
      " |  raw_dir\n",
      " |  \n",
      " |  raw_file_names\n",
      " |      The name of the files to find in the :obj:`self.raw_dir` folder in\n",
      " |      order to skip the download.\n",
      " |  \n",
      " |  raw_paths\n",
      " |      The filepaths to find in order to skip the download.\n",
      " |  \n",
      " |  ----------------------------------------------------------------------\n",
      " |  Methods inherited from torch.utils.data.dataset.Dataset:\n",
      " |  \n",
      " |  __add__(self, other: 'Dataset[T_co]') -> 'ConcatDataset[T_co]'\n",
      " |  \n",
      " |  ----------------------------------------------------------------------\n",
      " |  Data descriptors inherited from torch.utils.data.dataset.Dataset:\n",
      " |  \n",
      " |  __dict__\n",
      " |      dictionary for instance variables (if defined)\n",
      " |  \n",
      " |  __weakref__\n",
      " |      list of weak references to the object (if defined)\n",
      " |  \n",
      " |  ----------------------------------------------------------------------\n",
      " |  Data and other attributes inherited from torch.utils.data.dataset.Dataset:\n",
      " |  \n",
      " |  __orig_bases__ = (typing.Generic[+T_co],)\n",
      " |  \n",
      " |  ----------------------------------------------------------------------\n",
      " |  Class methods inherited from typing.Generic:\n",
      " |  \n",
      " |  __class_getitem__(params) from builtins.type\n",
      " |  \n",
      " |  __init_subclass__(*args, **kwargs) from builtins.type\n",
      " |      This method is called when a class is subclassed.\n",
      " |      \n",
      " |      The default implementation does nothing. It may be\n",
      " |      overridden to extend subclasses.\n",
      " |  \n",
      " |  ----------------------------------------------------------------------\n",
      " |  Static methods inherited from typing.Generic:\n",
      " |  \n",
      " |  __new__(cls, *args, **kwds)\n",
      " |      Create and return a new object.  See help(type) for accurate signature.\n",
      "\n"
     ]
    }
   ],
   "source": [
    "help(MoleculeDatasetWrapper)"
   ]
  },
  {
   "cell_type": "code",
   "execution_count": 5,
   "id": "cd8ad662",
   "metadata": {},
   "outputs": [
    {
     "name": "stdout",
     "output_type": "stream",
     "text": [
      "Help on function __init__ in module auglichem.molecule.data._molecule_dataset:\n",
      "\n",
      "__init__(self, dataset, transform=None, split='scaffold', batch_size=64, num_workers=0, valid_size=0.1, test_size=0.1, aug_time=0, data_path=None, target=None, seed=None)\n",
      "    Input:\n",
      "    ---\n",
      "    dataset (str): One of the datasets available from MoleculeNet\n",
      "                   (http://moleculenet.ai/datasets-1)\n",
      "    transform (Compose, OneOf, RandomAtomMask, RandomBondDelete object): transormations\n",
      "                   to apply to the data at call time.\n",
      "    split (str, optional default=scaffold): random or scaffold. The splitting strategy\n",
      "                                            used for train/test/validation set creation.\n",
      "    batch_size (int, optional default=64): Batch size used in training\n",
      "    num_workers (int, optional default=0): Number of workers used in loading data\n",
      "    valid_size (float in [0,1], optional default=0.1): \n",
      "    test_size (float in [0,1],  optional default=0.1): \n",
      "    aug_time (int, optional default=1):\n",
      "    data_path (str, optional default=None): specify path to save/lookup data. Default\n",
      "                creates `data_download` directory and stores data there\n",
      "    target (str, optional, default=None): Target variable\n",
      "    seed (int, optional, default=None): Random seed to use for reproducibility\n",
      "    \n",
      "    \n",
      "    Output:\n",
      "    ---\n",
      "    None\n",
      "\n"
     ]
    }
   ],
   "source": [
    "help(MoleculeDatasetWrapper.__init__)"
   ]
  },
  {
   "cell_type": "code",
   "execution_count": 6,
   "id": "1a17445e",
   "metadata": {
    "scrolled": true
   },
   "outputs": [
    {
     "name": "stdout",
     "output_type": "stream",
     "text": [
      "Help on class RandomAtomMask in module auglichem.molecule._transforms:\n",
      "\n",
      "class RandomAtomMask(BaseTransform)\n",
      " |  RandomAtomMask(p: float = 1.0)\n",
      " |  \n",
      " |  Method resolution order:\n",
      " |      RandomAtomMask\n",
      " |      BaseTransform\n",
      " |      builtins.object\n",
      " |  \n",
      " |  Methods defined here:\n",
      " |  \n",
      " |  __init__(self, p: float = 1.0)\n",
      " |      @param p: the probability of the transform being applied; default value is 1.0\n",
      " |  \n",
      " |  apply_transform(self, mol_graph: torch_geometric.data.data.Data, seed: NoneType) -> torch_geometric.data.data.Data\n",
      " |      Transform that randomly mask atoms given a certain ratio\n",
      " |      @param mol_graph: PyG Data to be augmented\n",
      " |      @param seed: \n",
      " |      @returns: Augmented PyG Data\n",
      " |  \n",
      " |  ----------------------------------------------------------------------\n",
      " |  Methods inherited from BaseTransform:\n",
      " |  \n",
      " |  __call__(self, mol_graph: torch_geometric.data.data.Data, seed=None) -> torch_geometric.data.data.Data\n",
      " |      @param mol_graph: PyG Data to be augmented\n",
      " |      @param metadata: if set to be a list, metadata about the function execution\n",
      " |          including its name, the source & dest width, height, etc. will be appended to\n",
      " |          the inputted list. If set to None, no metadata will be appended or returned\n",
      " |      @returns: Augmented PyG Data\n",
      " |  \n",
      " |  ----------------------------------------------------------------------\n",
      " |  Data descriptors inherited from BaseTransform:\n",
      " |  \n",
      " |  __dict__\n",
      " |      dictionary for instance variables (if defined)\n",
      " |  \n",
      " |  __weakref__\n",
      " |      list of weak references to the object (if defined)\n",
      "\n"
     ]
    }
   ],
   "source": [
    "help(RandomAtomMask)"
   ]
  },
  {
   "cell_type": "code",
   "execution_count": 7,
   "id": "2887799f",
   "metadata": {},
   "outputs": [
    {
     "name": "stdout",
     "output_type": "stream",
     "text": [
      "Using: ./data_download/FreeSolv/SAMPL.csv\n",
      "DATASET: FreeSolv\n"
     ]
    },
    {
     "name": "stderr",
     "output_type": "stream",
     "text": [
      "642it [00:00, 17711.10it/s]"
     ]
    },
    {
     "name": "stdout",
     "output_type": "stream",
     "text": [
      "Generating scaffolds...\n",
      "Generating scaffold 0/641\n",
      "About to sort in scaffold sets\n"
     ]
    },
    {
     "name": "stderr",
     "output_type": "stream",
     "text": [
      "\n",
      "/tmp/ipykernel_24204/2138085342.py:11: RuntimeWarning: No target was set, using expt by default.\n",
      "  train_loader, valid_loader, test_loader = dataset.get_data_loaders()\n"
     ]
    }
   ],
   "source": [
    "# Create transformation\n",
    "transform = Compose([\n",
    "    RandomAtomMask([0.1, 0.3]),\n",
    "    RandomBondDelete([0.1, 0.3])\n",
    "])\n",
    "\n",
    "# Initialize dataset object\n",
    "dataset = MoleculeDatasetWrapper(\"FreeSolv\", data_path=\"./data_download\", transform=transform, batch_size=128)\n",
    "\n",
    "# Get train/valid/test splits as loaders\n",
    "train_loader, valid_loader, test_loader = dataset.get_data_loaders()"
   ]
  },
  {
   "cell_type": "markdown",
   "id": "072b1301",
   "metadata": {},
   "source": [
    "### Initialize model with task from data"
   ]
  },
  {
   "cell_type": "code",
   "execution_count": 8,
   "id": "1f47e690",
   "metadata": {},
   "outputs": [],
   "source": [
    "# Get model\n",
    "model = GCN(task=dataset.task)\n",
    "\n",
    "# Uncomment the following line to use GPU\n",
    "#model.cuda()"
   ]
  },
  {
   "cell_type": "markdown",
   "id": "2c48a46f",
   "metadata": {},
   "source": [
    "### Initialize traning loop"
   ]
  },
  {
   "cell_type": "code",
   "execution_count": 9,
   "id": "4981f4ca",
   "metadata": {},
   "outputs": [],
   "source": [
    "if(dataset.task == 'classification'):\n",
    "    criterion = torch.nn.CrossEntropyLoss()\n",
    "elif(dataset.task == 'regression'):\n",
    "    criterion = torch.nn.MSELoss()\n",
    "\n",
    "optimizer = torch.optim.Adam(model.parameters(), lr=1e-3, weight_decay=1e-5)"
   ]
  },
  {
   "cell_type": "markdown",
   "id": "1e818fdf",
   "metadata": {},
   "source": [
    "### Train the model"
   ]
  },
  {
   "cell_type": "code",
   "execution_count": 10,
   "id": "2855ac6b",
   "metadata": {},
   "outputs": [
    {
     "name": "stderr",
     "output_type": "stream",
     "text": [
      "4it [00:00,  4.13it/s]\n",
      "4it [00:00,  4.23it/s]\n"
     ]
    }
   ],
   "source": [
    "for epoch in range(2):\n",
    "    for bn, data in tqdm(enumerate(train_loader)):\n",
    "\n",
    "        optimizer.zero_grad()\n",
    "        \n",
    "        _, pred = model(data)\n",
    "        \n",
    "        # data -> GPU\n",
    "        #_, pred = model(data.cuda())\n",
    "        \n",
    "        if(train_loader.dataset.task == \"classification\"):\n",
    "            loss = criterion(pred, data.y.flatten())\n",
    "        if(train_loader.dataset.task == \"regression\"):\n",
    "            loss = criterion(pred[:,0], data.y.flatten())\n",
    "\n",
    "        loss.backward()\n",
    "        optimizer.step()"
   ]
  },
  {
   "cell_type": "markdown",
   "id": "772cfea1",
   "metadata": {},
   "source": [
    "### Test the model"
   ]
  },
  {
   "cell_type": "code",
   "execution_count": 11,
   "id": "c81f966f",
   "metadata": {},
   "outputs": [],
   "source": [
    "def evaluate(model, test_loader, validation=False):\n",
    "    task = test_loader.dataset.task\n",
    "    set_str = \"VALIDATION\" if validation else \"TEST\"\n",
    "    with torch.no_grad():\n",
    "        model.eval()\n",
    "        \n",
    "        all_preds = []\n",
    "        all_labels = []\n",
    "        for data in test_loader:\n",
    "            _, pred = model(data)\n",
    "\n",
    "            # data -> GPU\n",
    "            #_, pred = model(data.cuda())\n",
    "            \n",
    "            # Hold on to all predictions and labels\n",
    "            if(task == 'classification'):\n",
    "                all_preds.extend(pred[:,1])\n",
    "            elif(task == 'regression'):\n",
    "                all_preds.extend(pred)\n",
    "                \n",
    "            all_labels.extend(data.y)\n",
    "        \n",
    "        if(task == 'classification'):\n",
    "            metric = ras(data.y.cpu(), pred.cpu().detach()[:,1])\n",
    "            print(\"{0} ROC: {1:.3f}\".format(set_str, metric))\n",
    "        elif(task == 'regression'):\n",
    "            metric = mse(data.y.cpu(), pred.cpu().detach(), squared=False)\n",
    "            print(\"{0} RMSE: {1:.3f}\".format(set_str, metric))\n"
   ]
  },
  {
   "cell_type": "code",
   "execution_count": 12,
   "id": "092df20d",
   "metadata": {},
   "outputs": [
    {
     "name": "stdout",
     "output_type": "stream",
     "text": [
      "VALIDATION RMSE: 13.071\n",
      "TEST RMSE: 11.050\n"
     ]
    }
   ],
   "source": [
    "evaluate(model, valid_loader, True)\n",
    "evaluate(model, test_loader)"
   ]
  },
  {
   "cell_type": "markdown",
   "id": "09bc37df",
   "metadata": {},
   "source": [
    "### Model saving/loading example"
   ]
  },
  {
   "cell_type": "code",
   "execution_count": 13,
   "id": "47a4c105",
   "metadata": {},
   "outputs": [],
   "source": [
    "# Save model\n",
    "os.makedirs(\"./saved_models/\", exist_ok=True)\n",
    "torch.save(model.state_dict(), \"./saved_models/example_gcn\")"
   ]
  },
  {
   "cell_type": "code",
   "execution_count": 14,
   "id": "f6cafea4",
   "metadata": {},
   "outputs": [
    {
     "name": "stdout",
     "output_type": "stream",
     "text": [
      "TEST RMSE: 6.691\n"
     ]
    }
   ],
   "source": [
    "# Instantiate new model and evaluate\n",
    "model = GCN(task=dataset.task)\n",
    "\n",
    "# For GPU, uncomment the following line\n",
    "#model.cuda()\n",
    "\n",
    "evaluate(model, test_loader)"
   ]
  },
  {
   "cell_type": "code",
   "execution_count": 15,
   "id": "1a559e08",
   "metadata": {},
   "outputs": [
    {
     "name": "stdout",
     "output_type": "stream",
     "text": [
      "TEST RMSE: 11.050\n"
     ]
    }
   ],
   "source": [
    "# Load saved model and evaluate\n",
    "model.load_state_dict(torch.load(\"./saved_models/example_gcn\"))\n",
    "evaluate(model, test_loader)"
   ]
  },
  {
   "cell_type": "code",
   "execution_count": null,
   "id": "d193cb74",
   "metadata": {},
   "outputs": [],
   "source": []
  }
 ],
 "metadata": {
  "kernelspec": {
   "display_name": "Python 3 (ipykernel)",
   "language": "python",
   "name": "python3"
  },
  "language_info": {
   "codemirror_mode": {
    "name": "ipython",
    "version": 3
   },
   "file_extension": ".py",
   "mimetype": "text/x-python",
   "name": "python",
   "nbconvert_exporter": "python",
   "pygments_lexer": "ipython3",
   "version": "3.8.11"
  }
 },
 "nbformat": 4,
 "nbformat_minor": 5
}
