{
 "cells": [
  {
   "cell_type": "markdown",
   "id": "e52af24e",
   "metadata": {},
   "source": [
    "### Set Path (Won't be needed once `setup.py` is finished)"
   ]
  },
  {
   "cell_type": "code",
   "execution_count": 1,
   "id": "022cd9ff",
   "metadata": {},
   "outputs": [],
   "source": [
    "import sys\n",
    "sys.path.insert(0, sys.path[0][:-8])"
   ]
  },
  {
   "cell_type": "code",
   "execution_count": 2,
   "id": "fdeea0fd",
   "metadata": {},
   "outputs": [],
   "source": [
    "import torch\n",
    "import warnings\n",
    "from tqdm import tqdm\n",
    "from torch.autograd import Variable\n",
    "from sklearn.metrics import mean_absolute_error"
   ]
  },
  {
   "cell_type": "markdown",
   "id": "f064887f",
   "metadata": {},
   "source": [
    "### Auglichem imports"
   ]
  },
  {
   "cell_type": "code",
   "execution_count": 3,
   "id": "a6bcf959",
   "metadata": {},
   "outputs": [],
   "source": [
    "from auglichem.crystal import Compose, RotationTransformation, SupercellTransformation\n",
    "from auglichem.crystal.data import CrystalDatasetWrapper\n",
    "from auglichem.crystal.models import SchNet, GINet\n",
    "from auglichem.crystal.models import GINet"
   ]
  },
  {
   "cell_type": "markdown",
   "id": "7125df85",
   "metadata": {},
   "source": [
    "### Set up dataset"
   ]
  },
  {
   "cell_type": "code",
   "execution_count": 4,
   "id": "95ede00a",
   "metadata": {
    "scrolled": true
   },
   "outputs": [],
   "source": [
    "#help(CrystalDatasetWrapper)"
   ]
  },
  {
   "cell_type": "code",
   "execution_count": 5,
   "id": "ce03f431",
   "metadata": {},
   "outputs": [],
   "source": [
    "#help(CrystalDatasetWrapper.__init__)"
   ]
  },
  {
   "cell_type": "code",
   "execution_count": 6,
   "id": "2887799f",
   "metadata": {},
   "outputs": [],
   "source": [
    "# Create transformation\n",
    "transform = [\n",
    "    SupercellTransformation(),\n",
    "]\n",
    "\n",
    "# Initialize dataset object\n",
    "dataset = CrystalDatasetWrapper(\"lanthanides\", batch_size=128, kfolds=4,\n",
    "                                valid_size=0.1, test_size=0.1)\n"
   ]
  },
  {
   "cell_type": "markdown",
   "id": "1e818fdf",
   "metadata": {},
   "source": [
    "### Train the model"
   ]
  },
  {
   "cell_type": "code",
   "execution_count": 7,
   "id": "2855ac6b",
   "metadata": {},
   "outputs": [],
   "source": [
    "def train(model, train_loader):\n",
    "    with warnings.catch_warnings():\n",
    "        warnings.simplefilter(\"ignore\")\n",
    "        for epoch in range(1):\n",
    "            for bn, data in tqdm(enumerate(train_loader)):        \n",
    "                optimizer.zero_grad()\n",
    "\n",
    "                pred = model(data)\n",
    "                loss = criterion(pred, data.y)\n",
    "\n",
    "                loss.backward()\n",
    "                optimizer.step()\n",
    "    return model"
   ]
  },
  {
   "cell_type": "markdown",
   "id": "772cfea1",
   "metadata": {},
   "source": [
    "### Test the model"
   ]
  },
  {
   "cell_type": "code",
   "execution_count": 8,
   "id": "77baed2b",
   "metadata": {},
   "outputs": [],
   "source": [
    "def evaluate(model, test_loader, validation=False):\n",
    "    with warnings.catch_warnings():\n",
    "        warnings.simplefilter(\"ignore\")\n",
    "        with torch.no_grad():\n",
    "            model.eval()\n",
    "            preds = torch.Tensor([])\n",
    "            targets = torch.Tensor([])\n",
    "            for data in test_loader:\n",
    "                pred = model(data)\n",
    "                preds = torch.cat((preds, pred))\n",
    "                targets = torch.cat((targets, data.y))\n",
    "\n",
    "            mae = mean_absolute_error(preds, targets)   \n",
    "        \n",
    "        set_str = \"VALIDATION\" if(validation) else \"TEST\"\n",
    "        print(\"{0} MAE: {1:.3f}\".format(set_str, mae))"
   ]
  },
  {
   "cell_type": "markdown",
   "id": "072b1301",
   "metadata": {},
   "source": [
    "### Initialize model, train, test for first fold"
   ]
  },
  {
   "cell_type": "code",
   "execution_count": 9,
   "id": "1f47e690",
   "metadata": {},
   "outputs": [
    {
     "name": "stdout",
     "output_type": "stream",
     "text": [
      "Ignoring splitting. Using pre-split k folds.\n"
     ]
    },
    {
     "name": "stderr",
     "output_type": "stream",
     "text": [
      "100%|████████████████████████████████████████████████████████| 4166/4166 [00:00<00:00, 185886.01it/s]\n",
      "44it [01:45,  2.40s/it]\n"
     ]
    },
    {
     "name": "stdout",
     "output_type": "stream",
     "text": [
      "VALIDATION MAE: 0.016\n",
      "TEST MAE: 0.018\n"
     ]
    }
   ],
   "source": [
    "# Get model\n",
    "model = GINet() # Note: SchNet and GINet are interchangeable in use cases\n",
    "\n",
    "criterion = torch.nn.MSELoss()\n",
    "optimizer = torch.optim.Adam(model.parameters(), lr=1e-3, weight_decay=1e-5)\n",
    "\n",
    "# Get train/valid/test splits as loaders\n",
    "train_loader, valid_loader, test_loader = dataset.get_data_loaders(transform=transform, fold=0)\n",
    "\n",
    "model = train(model, train_loader)\n",
    "\n",
    "evaluate(model, valid_loader, validation=True)\n",
    "evaluate(model, test_loader)"
   ]
  },
  {
   "cell_type": "code",
   "execution_count": 10,
   "id": "32f9cf2c",
   "metadata": {},
   "outputs": [
    {
     "name": "stdout",
     "output_type": "stream",
     "text": [
      "Ignoring splitting. Using pre-split k folds.\n",
      "Augmentation has already been done.\n"
     ]
    },
    {
     "name": "stderr",
     "output_type": "stream",
     "text": [
      "44it [01:19,  1.81s/it]\n"
     ]
    },
    {
     "name": "stdout",
     "output_type": "stream",
     "text": [
      "VALIDATION MAE: 0.441\n",
      "TEST MAE: 0.451\n"
     ]
    }
   ],
   "source": [
    "# Get model\n",
    "model = GINet() # Note: SchNet and GINet are interchangeable in use cases\n",
    "\n",
    "criterion = torch.nn.MSELoss()\n",
    "optimizer = torch.optim.Adam(model.parameters(), lr=1e-3, weight_decay=1e-5)\n",
    "\n",
    "# Get train/valid/test splits as loaders\n",
    "train_loader, valid_loader, test_loader = dataset.get_data_loaders(transform=transform, fold=1)\n",
    "\n",
    "model = train(model, train_loader)\n",
    "\n",
    "evaluate(model, valid_loader, validation=True)\n",
    "evaluate(model, test_loader)"
   ]
  },
  {
   "cell_type": "code",
   "execution_count": 11,
   "id": "75f33381",
   "metadata": {},
   "outputs": [
    {
     "name": "stdout",
     "output_type": "stream",
     "text": [
      "Ignoring splitting. Using pre-split k folds.\n",
      "Augmentation has already been done.\n"
     ]
    },
    {
     "name": "stderr",
     "output_type": "stream",
     "text": [
      "44it [01:05,  1.48s/it]\n"
     ]
    },
    {
     "name": "stdout",
     "output_type": "stream",
     "text": [
      "VALIDATION MAE: 0.144\n",
      "TEST MAE: 0.134\n"
     ]
    }
   ],
   "source": [
    "# Get model\n",
    "model = GINet() # Note: SchNet and GINet are interchangeable in use cases\n",
    "\n",
    "criterion = torch.nn.MSELoss()\n",
    "optimizer = torch.optim.Adam(model.parameters(), lr=1e-3, weight_decay=1e-5)\n",
    "\n",
    "# Get train/valid/test splits as loaders\n",
    "train_loader, valid_loader, test_loader = dataset.get_data_loaders(transform=transform, fold=2)\n",
    "\n",
    "model = train(model, train_loader)\n",
    "\n",
    "evaluate(model, valid_loader, validation=True)\n",
    "evaluate(model, test_loader)"
   ]
  },
  {
   "cell_type": "code",
   "execution_count": 12,
   "id": "35c0df8d",
   "metadata": {},
   "outputs": [
    {
     "name": "stdout",
     "output_type": "stream",
     "text": [
      "Ignoring splitting. Using pre-split k folds.\n",
      "Augmentation has already been done.\n"
     ]
    },
    {
     "name": "stderr",
     "output_type": "stream",
     "text": [
      "44it [00:56,  1.27s/it]\n"
     ]
    },
    {
     "name": "stdout",
     "output_type": "stream",
     "text": [
      "VALIDATION MAE: 0.047\n",
      "TEST MAE: 0.043\n"
     ]
    }
   ],
   "source": [
    "# Get model\n",
    "model = GINet() # Note: SchNet and GINet are interchangeable in use cases\n",
    "\n",
    "criterion = torch.nn.MSELoss()\n",
    "optimizer = torch.optim.Adam(model.parameters(), lr=1e-3, weight_decay=1e-5)\n",
    "\n",
    "# Get train/valid/test splits as loaders\n",
    "train_loader, valid_loader, test_loader = dataset.get_data_loaders(transform=transform, fold=3)\n",
    "\n",
    "model = train(model, train_loader)\n",
    "\n",
    "evaluate(model, valid_loader, validation=True)\n",
    "evaluate(model, test_loader)"
   ]
  },
  {
   "cell_type": "code",
   "execution_count": null,
   "id": "6737cc73",
   "metadata": {},
   "outputs": [],
   "source": []
  }
 ],
 "metadata": {
  "kernelspec": {
   "display_name": "Python 3 (ipykernel)",
   "language": "python",
   "name": "python3"
  },
  "language_info": {
   "codemirror_mode": {
    "name": "ipython",
    "version": 3
   },
   "file_extension": ".py",
   "mimetype": "text/x-python",
   "name": "python",
   "nbconvert_exporter": "python",
   "pygments_lexer": "ipython3",
   "version": "3.8.11"
  }
 },
 "nbformat": 4,
 "nbformat_minor": 5
}
