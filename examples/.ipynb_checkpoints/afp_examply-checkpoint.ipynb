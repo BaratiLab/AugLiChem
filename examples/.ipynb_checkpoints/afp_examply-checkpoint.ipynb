{
 "cells": [
  {
   "cell_type": "markdown",
   "metadata": {},
   "source": [
    "### Try with AugLiChem"
   ]
  },
  {
   "cell_type": "code",
   "execution_count": 1,
   "metadata": {},
   "outputs": [],
   "source": [
    "import sys\n",
    "from tqdm import tqdm\n",
    "sys.path.append(sys.path[0][:-8])\n",
    "\n",
    "import numpy as np\n",
    "\n",
    "import torch\n",
    "import torch.nn as nn\n",
    "import torch.optim as optim\n",
    "torch.manual_seed(8)\n",
    "\n",
    "from sklearn.metrics import roc_auc_score\n",
    "from sklearn.preprocessing import OneHotEncoder\n",
    "\n",
    "from rdkit import Chem"
   ]
  },
  {
   "cell_type": "code",
   "execution_count": 2,
   "metadata": {},
   "outputs": [
    {
     "ename": "ModuleNotFoundError",
     "evalue": "No module named 'auglichem.molecule.models.AttentiveLayers'",
     "output_type": "error",
     "traceback": [
      "\u001b[0;31m---------------------------------------------------------------------------\u001b[0m",
      "\u001b[0;31mModuleNotFoundError\u001b[0m                       Traceback (most recent call last)",
      "\u001b[0;32m/tmp/ipykernel_1271/1059177240.py\u001b[0m in \u001b[0;36m<module>\u001b[0;34m\u001b[0m\n\u001b[1;32m      3\u001b[0m \u001b[0;32mfrom\u001b[0m \u001b[0mauglichem\u001b[0m\u001b[0;34m.\u001b[0m\u001b[0mmolecule\u001b[0m\u001b[0;34m.\u001b[0m\u001b[0mmodels\u001b[0m \u001b[0;32mimport\u001b[0m \u001b[0mAttentiveFP\u001b[0m\u001b[0;34m\u001b[0m\u001b[0;34m\u001b[0m\u001b[0m\n\u001b[1;32m      4\u001b[0m \u001b[0;34m\u001b[0m\u001b[0m\n\u001b[0;32m----> 5\u001b[0;31m \u001b[0;32mfrom\u001b[0m \u001b[0mauglichem\u001b[0m\u001b[0;34m.\u001b[0m\u001b[0mmolecule\u001b[0m\u001b[0;34m.\u001b[0m\u001b[0mmodels\u001b[0m\u001b[0;34m.\u001b[0m\u001b[0mAttentiveLayers\u001b[0m \u001b[0;32mimport\u001b[0m \u001b[0mFingerprint\u001b[0m\u001b[0;34m\u001b[0m\u001b[0;34m\u001b[0m\u001b[0m\n\u001b[0m\u001b[1;32m      6\u001b[0m \u001b[0;32mfrom\u001b[0m \u001b[0mauglichem\u001b[0m\u001b[0;34m.\u001b[0m\u001b[0mmolecule\u001b[0m\u001b[0;34m.\u001b[0m\u001b[0mmodels\u001b[0m\u001b[0;34m.\u001b[0m\u001b[0mgetFeatures\u001b[0m \u001b[0;32mimport\u001b[0m \u001b[0msave_smiles_dicts\u001b[0m\u001b[0;34m,\u001b[0m \u001b[0mget_smiles_array\u001b[0m\u001b[0;34m\u001b[0m\u001b[0;34m\u001b[0m\u001b[0m\n\u001b[1;32m      7\u001b[0m \u001b[0;34m\u001b[0m\u001b[0m\n",
      "\u001b[0;31mModuleNotFoundError\u001b[0m: No module named 'auglichem.molecule.models.AttentiveLayers'"
     ]
    }
   ],
   "source": [
    "from auglichem.molecule.data import MoleculeDatasetWrapper\n",
    "from auglichem.molecule import RandomAtomMask, RandomBondDelete, Compose\n",
    "from auglichem.molecule.models import AttentiveFP\n",
    "\n",
    "from auglichem.molecule.models.AttentiveLayers import Fingerprint\n",
    "from auglichem.molecule.models.getFeatures import save_smiles_dicts, get_smiles_array\n",
    "\n",
    "from auglichem.molecule.models import AttentiveFP as AFP"
   ]
  },
  {
   "cell_type": "code",
   "execution_count": null,
   "metadata": {},
   "outputs": [],
   "source": [
    "task_name = 'ClinTox'\n",
    "tasks = ['CT_TOX']\n",
    "\n",
    "random_seed = 88\n",
    "\n",
    "batch_size = 100\n",
    "epochs = 800\n",
    "p_dropout = 0.5\n",
    "fingerprint_dim = 200\n",
    "\n",
    "radius = 3\n",
    "T = 3\n",
    "weight_decay = 3 # also known as l2_regularization_lambda\n",
    "learning_rate = 3.5\n",
    "per_task_output_units_num = 2 # for classification model with 2 classes\n",
    "output_units_num = len(tasks) * per_task_output_units_num"
   ]
  },
  {
   "cell_type": "code",
   "execution_count": null,
   "metadata": {},
   "outputs": [],
   "source": [
    "transform = Compose([\n",
    "    RandomAtomMask(1.),\n",
    "    RandomBondDelete([0., 0.2])\n",
    "])\n",
    "dataset = MoleculeDatasetWrapper('BACE', transform=transform, aug_time=1, batch_size=batch_size)\n",
    "print(dataset.batch_size)"
   ]
  },
  {
   "cell_type": "markdown",
   "metadata": {},
   "source": [
    "### Torch Geometric AFP Implementation"
   ]
  },
  {
   "cell_type": "code",
   "execution_count": null,
   "metadata": {},
   "outputs": [],
   "source": [
    "train_loader, val_loader, test_loader = dataset.get_data_loaders()"
   ]
  },
  {
   "cell_type": "code",
   "execution_count": null,
   "metadata": {},
   "outputs": [],
   "source": [
    "model = AFP(num_layers=radius, num_timesteps=T, dropout=p_dropout, hidden_channels=fingerprint_dim, out_channels=output_units_num, edge_dim=2, in_channels=2)\n",
    "#their_model = model = Fingerprint(radius, T, 2, 2,\n",
    "            #fingerprint_dim, output_units_num, p_dropout)"
   ]
  },
  {
   "cell_type": "code",
   "execution_count": null,
   "metadata": {},
   "outputs": [],
   "source": [
    "model_parameters = filter(lambda p: p.requires_grad, model.parameters())\n",
    "params = sum([np.prod(p.size()) for p in model_parameters])\n",
    "print(params)\n",
    "for idx, (name, param) in enumerate(model.named_parameters()):\n",
    "    if param.requires_grad:\n",
    "        print(idx, name, param.data.shape)\n",
    "#print(model)"
   ]
  },
  {
   "cell_type": "code",
   "execution_count": null,
   "metadata": {},
   "outputs": [],
   "source": [
    "def evaluate(model, test_loader):\n",
    "    with torch.no_grad():\n",
    "        model.eval()\n",
    "        data = next(iter(test_loader))\n",
    "        \n",
    "        # Get data\n",
    "        x = data.x\n",
    "        edge_index = data.edge_index\n",
    "        edge_attr = data.edge_attr\n",
    "        \n",
    "        # Predict\n",
    "        pred = model(x.float(), edge_index, edge_attr, data.batch)\n",
    "        \n",
    "        loss = criterion(pred, data.y.flatten())\n",
    "\n",
    "    score = roc_auc_score(data.y, pred.detach()[:,1])\n",
    "    print(\"TEST LOSS: {0:.3f}, ROC-AUC: {1:.3f}\".format(loss.detach(), score))\n",
    "    \n",
    "def validate(model, val_loader):\n",
    "    with torch.no_grad():\n",
    "        model.eval()\n",
    "        data = next(iter(val_loader))\n",
    "        \n",
    "        # Get data\n",
    "        x = data.x\n",
    "        edge_index = data.edge_index\n",
    "        edge_attr = data.edge_attr\n",
    "        \n",
    "        # Predict\n",
    "        pred = model(x.float(), edge_index, edge_attr, data.batch)\n",
    "        \n",
    "        loss = criterion(pred, data.y.flatten())\n",
    "\n",
    "    score = roc_auc_score(data.y, pred.detach()[:,1])\n",
    "    print(\"VALIDATION LOSS: {0:.3f}, ROC-AUC: {1:.3f}\".format(loss.detach(), score))"
   ]
  },
  {
   "cell_type": "code",
   "execution_count": null,
   "metadata": {},
   "outputs": [],
   "source": [
    "optimizer = optim.Adam(model.parameters(), 10**-learning_rate, weight_decay=10**-weight_decay)\n",
    "criterion = nn.CrossEntropyLoss()"
   ]
  },
  {
   "cell_type": "code",
   "execution_count": null,
   "metadata": {},
   "outputs": [],
   "source": [
    "for epoch in range(epochs):\n",
    "    for bn, data in tqdm(enumerate(train_loader)):\n",
    "        optimizer.zero_grad()\n",
    "\n",
    "        # Get data\n",
    "        x = data.x\n",
    "        edge_index = data.edge_index\n",
    "        edge_attr = data.edge_attr\n",
    "        \n",
    "        # Predict\n",
    "        pred = model(x.float(), edge_index, edge_attr, data.batch)\n",
    "        \n",
    "        # Update\n",
    "        loss = criterion(pred, data.y.flatten())\n",
    "        loss.backward()\n",
    "        optimizer.step()\n",
    "    print(\"EPOCH:\\t{}\".format(epoch))\n",
    "    validate(model, val_loader)\n",
    "    evaluate(model, test_loader)"
   ]
  },
  {
   "cell_type": "code",
   "execution_count": null,
   "metadata": {},
   "outputs": [],
   "source": []
  }
 ],
 "metadata": {
  "kernelspec": {
   "display_name": "Python 3 (ipykernel)",
   "language": "python",
   "name": "python3"
  },
  "language_info": {
   "codemirror_mode": {
    "name": "ipython",
    "version": 3
   },
   "file_extension": ".py",
   "mimetype": "text/x-python",
   "name": "python",
   "nbconvert_exporter": "python",
   "pygments_lexer": "ipython3",
   "version": "3.8.11"
  }
 },
 "nbformat": 4,
 "nbformat_minor": 2
}
