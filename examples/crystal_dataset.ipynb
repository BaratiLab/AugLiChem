{
 "cells": [
  {
   "cell_type": "markdown",
   "id": "e52af24e",
   "metadata": {},
   "source": [
    "### Set Path (Won't be needed once `setup.py` is finished)"
   ]
  },
  {
   "cell_type": "code",
   "execution_count": null,
   "id": "022cd9ff",
   "metadata": {},
   "outputs": [],
   "source": [
    "import sys\n",
    "sys.path.append(sys.path[0][:-8])"
   ]
  },
  {
   "cell_type": "code",
   "execution_count": null,
   "id": "fdeea0fd",
   "metadata": {},
   "outputs": [],
   "source": [
    "import torch\n",
    "from tqdm import tqdm\n",
    "\n",
    "from torch.autograd import Variable"
   ]
  },
  {
   "cell_type": "markdown",
   "id": "f064887f",
   "metadata": {},
   "source": [
    "### Auglichem imports"
   ]
  },
  {
   "cell_type": "code",
   "execution_count": null,
   "id": "a6bcf959",
   "metadata": {},
   "outputs": [],
   "source": [
    "from auglichem.crystal import Compose, RandomRotationTransformation, SupercellTransformation\n",
    "from auglichem.crystal.data import CrystalDatasetWrapper\n",
    "from auglichem.crystal.models import CrystalGraphConvNet as CGCNN"
   ]
  },
  {
   "cell_type": "markdown",
   "id": "7125df85",
   "metadata": {},
   "source": [
    "### Set up dataset"
   ]
  },
  {
   "cell_type": "code",
   "execution_count": null,
   "id": "2887799f",
   "metadata": {},
   "outputs": [],
   "source": [
    "# Create transformation\n",
    "transform = [\n",
    "    SupercellTransformation()\n",
    "]\n",
    "\n",
    "# Initialize dataset object\n",
    "dataset = CrystalDatasetWrapper(\"Lanthanides\", batch_size=1024)\n",
    "dataset.data_augmentation(transform)\n",
    "\n",
    "# Get train/valid/test splits as loaders\n",
    "train_loader, valid_loader, test_loader = dataset.get_data_loaders()"
   ]
  },
  {
   "cell_type": "markdown",
   "id": "072b1301",
   "metadata": {},
   "source": [
    "### Initialize model with task from data"
   ]
  },
  {
   "cell_type": "code",
   "execution_count": null,
   "id": "1f47e690",
   "metadata": {},
   "outputs": [],
   "source": [
    "# Get model\n",
    "structures, _, _ = dataset[0]\n",
    "orig_atom_fea_len = structures[0].shape[-1]\n",
    "nbr_fea_len = structures[1].shape[-1]\n",
    "\n",
    "model = CGCNN(orig_atom_fea_len, nbr_fea_len)"
   ]
  },
  {
   "cell_type": "markdown",
   "id": "2c48a46f",
   "metadata": {},
   "source": [
    "### Initialize traning loop"
   ]
  },
  {
   "cell_type": "code",
   "execution_count": null,
   "id": "4981f4ca",
   "metadata": {},
   "outputs": [],
   "source": [
    "criterion = torch.nn.MSELoss()\n",
    "optimizer = torch.optim.Adam(model.parameters(), lr=1e-3, weight_decay=1e-5)"
   ]
  },
  {
   "cell_type": "markdown",
   "id": "1e818fdf",
   "metadata": {},
   "source": [
    "### Train the model"
   ]
  },
  {
   "cell_type": "code",
   "execution_count": null,
   "id": "2855ac6b",
   "metadata": {},
   "outputs": [],
   "source": [
    "for epoch in tqdm(range(10)):\n",
    "    for bn, (data, target, _) in enumerate(train_loader):\n",
    "        optimizer.zero_grad()\n",
    "        input_var = (Variable(data[0]),\n",
    "                     Variable(data[1]),\n",
    "                     data[2],\n",
    "                     data[3])\n",
    "        \n",
    "        pred = model(*input_var)\n",
    "        loss = criterion(pred, target)\n",
    "        \n",
    "        loss.backward()\n",
    "        optimizer.step()"
   ]
  },
  {
   "cell_type": "markdown",
   "id": "772cfea1",
   "metadata": {},
   "source": [
    "### Test the model"
   ]
  },
  {
   "cell_type": "code",
   "execution_count": null,
   "id": "c81f966f",
   "metadata": {},
   "outputs": [],
   "source": [
    "with torch.no_grad():\n",
    "    model.eval()\n",
    "    data, target, _ = next(iter(test_loader))\n",
    "    input_var = (Variable(data[0]),\n",
    "                 Variable(data[1]),\n",
    "                 data[2],\n",
    "                 data[3])\n",
    "    \n",
    "    pred = model(*input_var)\n",
    "    loss = criterion(pred, target)\n",
    "\n",
    "print(\"TEST LOSS: {0:.3f}\".format(loss.detach()))"
   ]
  },
  {
   "cell_type": "code",
   "execution_count": null,
   "id": "595928e3",
   "metadata": {},
   "outputs": [],
   "source": []
  }
 ],
 "metadata": {
  "kernelspec": {
   "display_name": "Python 3 (ipykernel)",
   "language": "python",
   "name": "python3"
  },
  "language_info": {
   "codemirror_mode": {
    "name": "ipython",
    "version": 3
   },
   "file_extension": ".py",
   "mimetype": "text/x-python",
   "name": "python",
   "nbconvert_exporter": "python",
   "pygments_lexer": "ipython3",
   "version": "3.8.10"
  }
 },
 "nbformat": 4,
 "nbformat_minor": 5
}
