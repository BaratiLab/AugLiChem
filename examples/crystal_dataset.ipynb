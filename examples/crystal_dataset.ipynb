{
 "cells": [
  {
   "cell_type": "markdown",
   "id": "d2d49e3c",
   "metadata": {},
   "source": [
    "### Set Path (Won't be needed once `setup.py` is finished)"
   ]
  },
  {
   "cell_type": "code",
   "execution_count": 1,
   "id": "c7d37a8f",
   "metadata": {},
   "outputs": [],
   "source": [
    "import sys\n",
    "sys.path.insert(0, sys.path[0][:-8])"
   ]
  },
  {
   "cell_type": "code",
   "execution_count": 2,
   "id": "a9214247",
   "metadata": {},
   "outputs": [],
   "source": [
    "import torch\n",
    "import warnings\n",
    "from tqdm import tqdm\n",
    "from torch.autograd import Variable\n",
    "from sklearn.metrics import mean_absolute_error"
   ]
  },
  {
   "cell_type": "markdown",
   "id": "f9eec470",
   "metadata": {},
   "source": [
    "### Auglichem imports"
   ]
  },
  {
   "cell_type": "code",
   "execution_count": 3,
   "id": "f159194c",
   "metadata": {},
   "outputs": [],
   "source": [
    "from auglichem.crystal import Compose, RotationTransformation, SupercellTransformation\n",
    "from auglichem.crystal.data import CrystalDatasetWrapper\n",
    "from auglichem.crystal.models import SchNet, GINet"
   ]
  },
  {
   "cell_type": "markdown",
   "id": "2d43e54e",
   "metadata": {},
   "source": [
    "### Set up dataset"
   ]
  },
  {
   "cell_type": "code",
   "execution_count": 4,
   "id": "f8ef021a",
   "metadata": {
    "scrolled": true
   },
   "outputs": [],
   "source": [
    "#help(CrystalDatasetWrapper)"
   ]
  },
  {
   "cell_type": "code",
   "execution_count": 5,
   "id": "31d84013",
   "metadata": {},
   "outputs": [],
   "source": [
    "#help(CrystalDatasetWrapper.__init__)"
   ]
  },
  {
   "cell_type": "code",
   "execution_count": 6,
   "id": "6068e947",
   "metadata": {},
   "outputs": [
    {
     "name": "stderr",
     "output_type": "stream",
     "text": [
      "100%|████████████████████████████████████████████████████████| 3332/3332 [00:00<00:00, 183732.40it/s]\n",
      "/home/mlai/anaconda3/envs/test_auglichem/lib/python3.8/site-packages/torch_geometric/deprecation.py:13: UserWarning: 'data.DataLoader' is deprecated, use 'loader.DataLoader' instead\n",
      "  warnings.warn(out)\n"
     ]
    }
   ],
   "source": [
    "# Create transformation\n",
    "transform = [\n",
    "    SupercellTransformation(),\n",
    "]\n",
    "\n",
    "# Initialize dataset object\n",
    "dataset = CrystalDatasetWrapper(\"lanthanides\", batch_size=128,\n",
    "                                valid_size=0.1, test_size=0.1)\n",
    "\n",
    "# Get train/valid/test splits as loaders\n",
    "train_loader, valid_loader, test_loader = dataset.get_data_loaders(transform=transform)"
   ]
  },
  {
   "cell_type": "markdown",
   "id": "89d4a737",
   "metadata": {},
   "source": [
    "### Initialize model with task from data"
   ]
  },
  {
   "cell_type": "code",
   "execution_count": 17,
   "id": "6b8bc773",
   "metadata": {},
   "outputs": [
    {
     "data": {
      "text/plain": [
       "SchNet(hidden_channels=128, num_filters=128, num_interactions=6, num_gaussians=50, cutoff=10.0)"
      ]
     },
     "execution_count": 17,
     "metadata": {},
     "output_type": "execute_result"
    }
   ],
   "source": [
    "# Get model\n",
    "model = SchNet() # Note: SchNet and GINet are interchangeable in use cases\n",
    "\n",
    "# Uncomment the following line to use cuda\n",
    "#model.cuda()"
   ]
  },
  {
   "cell_type": "markdown",
   "id": "6dabddda",
   "metadata": {},
   "source": [
    "### Initialize traning loop"
   ]
  },
  {
   "cell_type": "code",
   "execution_count": 18,
   "id": "ff61bb9d",
   "metadata": {},
   "outputs": [],
   "source": [
    "criterion = torch.nn.MSELoss()\n",
    "optimizer = torch.optim.Adam(model.parameters(), lr=1e-3, weight_decay=1e-5)"
   ]
  },
  {
   "cell_type": "markdown",
   "id": "3f45f87f",
   "metadata": {},
   "source": [
    "### Train the model"
   ]
  },
  {
   "cell_type": "code",
   "execution_count": 25,
   "id": "827c88e9",
   "metadata": {},
   "outputs": [
    {
     "name": "stderr",
     "output_type": "stream",
     "text": [
      "53it [00:02, 23.30it/s]\n"
     ]
    }
   ],
   "source": [
    "with warnings.catch_warnings():\n",
    "    warnings.simplefilter(\"ignore\")\n",
    "    for epoch in range(1):\n",
    "        for bn, data in tqdm(enumerate(train_loader)):        \n",
    "            optimizer.zero_grad()\n",
    "\n",
    "            # Comment out the following line and uncomment the line after for cuda\n",
    "            pred = model(data)\n",
    "            #pred = model(data.cuda())\n",
    "            \n",
    "            loss = criterion(pred, data.y)\n",
    "\n",
    "            loss.backward()\n",
    "            optimizer.step()"
   ]
  },
  {
   "cell_type": "markdown",
   "id": "558838e0",
   "metadata": {},
   "source": [
    "### Test the model"
   ]
  },
  {
   "cell_type": "code",
   "execution_count": 26,
   "id": "a12118ba",
   "metadata": {},
   "outputs": [],
   "source": [
    "def evaluate(model, test_loader, validation=False):\n",
    "    with warnings.catch_warnings():\n",
    "        warnings.simplefilter(\"ignore\")\n",
    "        with torch.no_grad():\n",
    "            model.eval()\n",
    "            preds = torch.Tensor([])\n",
    "            targets = torch.Tensor([])\n",
    "            for data in test_loader:\n",
    "                #pred = model(data)\n",
    "                pred = model(data.cuda())\n",
    "                preds = torch.cat((preds, pred.cpu()))\n",
    "                targets = torch.cat((targets, data.y.cpu()))\n",
    "\n",
    "            mae = mean_absolute_error(preds, targets)   \n",
    "        \n",
    "        set_str = \"VALIDATION\" if(validation) else \"TEST\"\n",
    "        print(\"{0} MAE: {1:.3f}\".format(set_str, mae))"
   ]
  },
  {
   "cell_type": "code",
   "execution_count": 27,
   "id": "02d06ffa",
   "metadata": {},
   "outputs": [
    {
     "name": "stdout",
     "output_type": "stream",
     "text": [
      "VALIDATION MAE: 4.307\n",
      "TEST MAE: 4.708\n"
     ]
    }
   ],
   "source": [
    "evaluate(model, valid_loader, validation=True)\n",
    "evaluate(model, test_loader)"
   ]
  },
  {
   "cell_type": "markdown",
   "id": "c272546e",
   "metadata": {},
   "source": [
    "### Model saving/loading example"
   ]
  },
  {
   "cell_type": "code",
   "execution_count": 28,
   "id": "3016e288",
   "metadata": {},
   "outputs": [],
   "source": [
    "# Save model\n",
    "torch.save(model.state_dict(), \"./saved_models/example_gin\")"
   ]
  },
  {
   "cell_type": "code",
   "execution_count": 29,
   "id": "a53ce66f",
   "metadata": {},
   "outputs": [
    {
     "ename": "RuntimeError",
     "evalue": "Expected all tensors to be on the same device, but found at least two devices, cpu and cuda:0! (when checking argument for argument index in method wrapper__index_select)",
     "output_type": "error",
     "traceback": [
      "\u001b[0;31m---------------------------------------------------------------------------\u001b[0m",
      "\u001b[0;31mRuntimeError\u001b[0m                              Traceback (most recent call last)",
      "\u001b[0;32m/tmp/ipykernel_13527/4270878462.py\u001b[0m in \u001b[0;36m<module>\u001b[0;34m\u001b[0m\n\u001b[1;32m      2\u001b[0m \u001b[0mmodel\u001b[0m \u001b[0;34m=\u001b[0m \u001b[0mGINet\u001b[0m\u001b[0;34m(\u001b[0m\u001b[0;34m)\u001b[0m\u001b[0;34m\u001b[0m\u001b[0;34m\u001b[0m\u001b[0m\n\u001b[1;32m      3\u001b[0m \u001b[0;34m\u001b[0m\u001b[0m\n\u001b[0;32m----> 4\u001b[0;31m \u001b[0mevaluate\u001b[0m\u001b[0;34m(\u001b[0m\u001b[0mmodel\u001b[0m\u001b[0;34m,\u001b[0m \u001b[0mvalid_loader\u001b[0m\u001b[0;34m,\u001b[0m \u001b[0mvalidation\u001b[0m\u001b[0;34m=\u001b[0m\u001b[0;32mTrue\u001b[0m\u001b[0;34m)\u001b[0m\u001b[0;34m\u001b[0m\u001b[0;34m\u001b[0m\u001b[0m\n\u001b[0m\u001b[1;32m      5\u001b[0m \u001b[0mevaluate\u001b[0m\u001b[0;34m(\u001b[0m\u001b[0mmodel\u001b[0m\u001b[0;34m,\u001b[0m \u001b[0mtest_loader\u001b[0m\u001b[0;34m)\u001b[0m\u001b[0;34m\u001b[0m\u001b[0;34m\u001b[0m\u001b[0m\n",
      "\u001b[0;32m/tmp/ipykernel_13527/312757636.py\u001b[0m in \u001b[0;36mevaluate\u001b[0;34m(model, test_loader, validation)\u001b[0m\n\u001b[1;32m      8\u001b[0m             \u001b[0;32mfor\u001b[0m \u001b[0mdata\u001b[0m \u001b[0;32min\u001b[0m \u001b[0mtest_loader\u001b[0m\u001b[0;34m:\u001b[0m\u001b[0;34m\u001b[0m\u001b[0;34m\u001b[0m\u001b[0m\n\u001b[1;32m      9\u001b[0m                 \u001b[0;31m#pred = model(data)\u001b[0m\u001b[0;34m\u001b[0m\u001b[0;34m\u001b[0m\u001b[0;34m\u001b[0m\u001b[0m\n\u001b[0;32m---> 10\u001b[0;31m                 \u001b[0mpred\u001b[0m \u001b[0;34m=\u001b[0m \u001b[0mmodel\u001b[0m\u001b[0;34m(\u001b[0m\u001b[0mdata\u001b[0m\u001b[0;34m.\u001b[0m\u001b[0mcuda\u001b[0m\u001b[0;34m(\u001b[0m\u001b[0;34m)\u001b[0m\u001b[0;34m)\u001b[0m\u001b[0;34m\u001b[0m\u001b[0;34m\u001b[0m\u001b[0m\n\u001b[0m\u001b[1;32m     11\u001b[0m                 \u001b[0mpreds\u001b[0m \u001b[0;34m=\u001b[0m \u001b[0mtorch\u001b[0m\u001b[0;34m.\u001b[0m\u001b[0mcat\u001b[0m\u001b[0;34m(\u001b[0m\u001b[0;34m(\u001b[0m\u001b[0mpreds\u001b[0m\u001b[0;34m,\u001b[0m \u001b[0mpred\u001b[0m\u001b[0;34m.\u001b[0m\u001b[0mcpu\u001b[0m\u001b[0;34m(\u001b[0m\u001b[0;34m)\u001b[0m\u001b[0;34m)\u001b[0m\u001b[0;34m)\u001b[0m\u001b[0;34m\u001b[0m\u001b[0;34m\u001b[0m\u001b[0m\n\u001b[1;32m     12\u001b[0m                 \u001b[0mtargets\u001b[0m \u001b[0;34m=\u001b[0m \u001b[0mtorch\u001b[0m\u001b[0;34m.\u001b[0m\u001b[0mcat\u001b[0m\u001b[0;34m(\u001b[0m\u001b[0;34m(\u001b[0m\u001b[0mtargets\u001b[0m\u001b[0;34m,\u001b[0m \u001b[0mdata\u001b[0m\u001b[0;34m.\u001b[0m\u001b[0my\u001b[0m\u001b[0;34m.\u001b[0m\u001b[0mcpu\u001b[0m\u001b[0;34m(\u001b[0m\u001b[0;34m)\u001b[0m\u001b[0;34m)\u001b[0m\u001b[0;34m)\u001b[0m\u001b[0;34m\u001b[0m\u001b[0;34m\u001b[0m\u001b[0m\n",
      "\u001b[0;32m~/anaconda3/envs/test_auglichem/lib/python3.8/site-packages/torch/nn/modules/module.py\u001b[0m in \u001b[0;36m_call_impl\u001b[0;34m(self, *input, **kwargs)\u001b[0m\n\u001b[1;32m   1100\u001b[0m         if not (self._backward_hooks or self._forward_hooks or self._forward_pre_hooks or _global_backward_hooks\n\u001b[1;32m   1101\u001b[0m                 or _global_forward_hooks or _global_forward_pre_hooks):\n\u001b[0;32m-> 1102\u001b[0;31m             \u001b[0;32mreturn\u001b[0m \u001b[0mforward_call\u001b[0m\u001b[0;34m(\u001b[0m\u001b[0;34m*\u001b[0m\u001b[0minput\u001b[0m\u001b[0;34m,\u001b[0m \u001b[0;34m**\u001b[0m\u001b[0mkwargs\u001b[0m\u001b[0;34m)\u001b[0m\u001b[0;34m\u001b[0m\u001b[0;34m\u001b[0m\u001b[0m\n\u001b[0m\u001b[1;32m   1103\u001b[0m         \u001b[0;31m# Do not call functions when jit is used\u001b[0m\u001b[0;34m\u001b[0m\u001b[0;34m\u001b[0m\u001b[0;34m\u001b[0m\u001b[0m\n\u001b[1;32m   1104\u001b[0m         \u001b[0mfull_backward_hooks\u001b[0m\u001b[0;34m,\u001b[0m \u001b[0mnon_full_backward_hooks\u001b[0m \u001b[0;34m=\u001b[0m \u001b[0;34m[\u001b[0m\u001b[0;34m]\u001b[0m\u001b[0;34m,\u001b[0m \u001b[0;34m[\u001b[0m\u001b[0;34m]\u001b[0m\u001b[0;34m\u001b[0m\u001b[0;34m\u001b[0m\u001b[0m\n",
      "\u001b[0;32m~/Research-cooper/test_auglichem_install/AugLiChem/auglichem/crystal/models/gin.py\u001b[0m in \u001b[0;36mforward\u001b[0;34m(self, data)\u001b[0m\n\u001b[1;32m    115\u001b[0m         \u001b[0medge_attr\u001b[0m \u001b[0;34m=\u001b[0m \u001b[0mdata\u001b[0m\u001b[0;34m.\u001b[0m\u001b[0medge_attr\u001b[0m\u001b[0;34m\u001b[0m\u001b[0;34m\u001b[0m\u001b[0m\n\u001b[1;32m    116\u001b[0m \u001b[0;34m\u001b[0m\u001b[0m\n\u001b[0;32m--> 117\u001b[0;31m         \u001b[0mh\u001b[0m \u001b[0;34m=\u001b[0m \u001b[0mself\u001b[0m\u001b[0;34m.\u001b[0m\u001b[0mx_embedding1\u001b[0m\u001b[0;34m(\u001b[0m\u001b[0mdata\u001b[0m\u001b[0;34m.\u001b[0m\u001b[0matomics\u001b[0m\u001b[0;34m)\u001b[0m \u001b[0;34m+\u001b[0m \u001b[0mself\u001b[0m\u001b[0;34m.\u001b[0m\u001b[0mx_embedding2\u001b[0m\u001b[0;34m(\u001b[0m\u001b[0mdata\u001b[0m\u001b[0;34m.\u001b[0m\u001b[0mpos\u001b[0m\u001b[0;34m)\u001b[0m\u001b[0;34m\u001b[0m\u001b[0;34m\u001b[0m\u001b[0m\n\u001b[0m\u001b[1;32m    118\u001b[0m         \u001b[0;31m# h = self.x_embedding1(data.atomics) + \\\u001b[0m\u001b[0;34m\u001b[0m\u001b[0;34m\u001b[0m\u001b[0;34m\u001b[0m\u001b[0m\n\u001b[1;32m    119\u001b[0m         \u001b[0;31m#     self.x_embedding2(data.pos) + \\\u001b[0m\u001b[0;34m\u001b[0m\u001b[0;34m\u001b[0m\u001b[0;34m\u001b[0m\u001b[0m\n",
      "\u001b[0;32m~/anaconda3/envs/test_auglichem/lib/python3.8/site-packages/torch/nn/modules/module.py\u001b[0m in \u001b[0;36m_call_impl\u001b[0;34m(self, *input, **kwargs)\u001b[0m\n\u001b[1;32m   1100\u001b[0m         if not (self._backward_hooks or self._forward_hooks or self._forward_pre_hooks or _global_backward_hooks\n\u001b[1;32m   1101\u001b[0m                 or _global_forward_hooks or _global_forward_pre_hooks):\n\u001b[0;32m-> 1102\u001b[0;31m             \u001b[0;32mreturn\u001b[0m \u001b[0mforward_call\u001b[0m\u001b[0;34m(\u001b[0m\u001b[0;34m*\u001b[0m\u001b[0minput\u001b[0m\u001b[0;34m,\u001b[0m \u001b[0;34m**\u001b[0m\u001b[0mkwargs\u001b[0m\u001b[0;34m)\u001b[0m\u001b[0;34m\u001b[0m\u001b[0;34m\u001b[0m\u001b[0m\n\u001b[0m\u001b[1;32m   1103\u001b[0m         \u001b[0;31m# Do not call functions when jit is used\u001b[0m\u001b[0;34m\u001b[0m\u001b[0;34m\u001b[0m\u001b[0;34m\u001b[0m\u001b[0m\n\u001b[1;32m   1104\u001b[0m         \u001b[0mfull_backward_hooks\u001b[0m\u001b[0;34m,\u001b[0m \u001b[0mnon_full_backward_hooks\u001b[0m \u001b[0;34m=\u001b[0m \u001b[0;34m[\u001b[0m\u001b[0;34m]\u001b[0m\u001b[0;34m,\u001b[0m \u001b[0;34m[\u001b[0m\u001b[0;34m]\u001b[0m\u001b[0;34m\u001b[0m\u001b[0;34m\u001b[0m\u001b[0m\n",
      "\u001b[0;32m~/anaconda3/envs/test_auglichem/lib/python3.8/site-packages/torch/nn/modules/sparse.py\u001b[0m in \u001b[0;36mforward\u001b[0;34m(self, input)\u001b[0m\n\u001b[1;32m    156\u001b[0m \u001b[0;34m\u001b[0m\u001b[0m\n\u001b[1;32m    157\u001b[0m     \u001b[0;32mdef\u001b[0m \u001b[0mforward\u001b[0m\u001b[0;34m(\u001b[0m\u001b[0mself\u001b[0m\u001b[0;34m,\u001b[0m \u001b[0minput\u001b[0m\u001b[0;34m:\u001b[0m \u001b[0mTensor\u001b[0m\u001b[0;34m)\u001b[0m \u001b[0;34m->\u001b[0m \u001b[0mTensor\u001b[0m\u001b[0;34m:\u001b[0m\u001b[0;34m\u001b[0m\u001b[0;34m\u001b[0m\u001b[0m\n\u001b[0;32m--> 158\u001b[0;31m         return F.embedding(\n\u001b[0m\u001b[1;32m    159\u001b[0m             \u001b[0minput\u001b[0m\u001b[0;34m,\u001b[0m \u001b[0mself\u001b[0m\u001b[0;34m.\u001b[0m\u001b[0mweight\u001b[0m\u001b[0;34m,\u001b[0m \u001b[0mself\u001b[0m\u001b[0;34m.\u001b[0m\u001b[0mpadding_idx\u001b[0m\u001b[0;34m,\u001b[0m \u001b[0mself\u001b[0m\u001b[0;34m.\u001b[0m\u001b[0mmax_norm\u001b[0m\u001b[0;34m,\u001b[0m\u001b[0;34m\u001b[0m\u001b[0;34m\u001b[0m\u001b[0m\n\u001b[1;32m    160\u001b[0m             self.norm_type, self.scale_grad_by_freq, self.sparse)\n",
      "\u001b[0;32m~/anaconda3/envs/test_auglichem/lib/python3.8/site-packages/torch/nn/functional.py\u001b[0m in \u001b[0;36membedding\u001b[0;34m(input, weight, padding_idx, max_norm, norm_type, scale_grad_by_freq, sparse)\u001b[0m\n\u001b[1;32m   2042\u001b[0m         \u001b[0;31m# remove once script supports set_grad_enabled\u001b[0m\u001b[0;34m\u001b[0m\u001b[0;34m\u001b[0m\u001b[0;34m\u001b[0m\u001b[0m\n\u001b[1;32m   2043\u001b[0m         \u001b[0m_no_grad_embedding_renorm_\u001b[0m\u001b[0;34m(\u001b[0m\u001b[0mweight\u001b[0m\u001b[0;34m,\u001b[0m \u001b[0minput\u001b[0m\u001b[0;34m,\u001b[0m \u001b[0mmax_norm\u001b[0m\u001b[0;34m,\u001b[0m \u001b[0mnorm_type\u001b[0m\u001b[0;34m)\u001b[0m\u001b[0;34m\u001b[0m\u001b[0;34m\u001b[0m\u001b[0m\n\u001b[0;32m-> 2044\u001b[0;31m     \u001b[0;32mreturn\u001b[0m \u001b[0mtorch\u001b[0m\u001b[0;34m.\u001b[0m\u001b[0membedding\u001b[0m\u001b[0;34m(\u001b[0m\u001b[0mweight\u001b[0m\u001b[0;34m,\u001b[0m \u001b[0minput\u001b[0m\u001b[0;34m,\u001b[0m \u001b[0mpadding_idx\u001b[0m\u001b[0;34m,\u001b[0m \u001b[0mscale_grad_by_freq\u001b[0m\u001b[0;34m,\u001b[0m \u001b[0msparse\u001b[0m\u001b[0;34m)\u001b[0m\u001b[0;34m\u001b[0m\u001b[0;34m\u001b[0m\u001b[0m\n\u001b[0m\u001b[1;32m   2045\u001b[0m \u001b[0;34m\u001b[0m\u001b[0m\n\u001b[1;32m   2046\u001b[0m \u001b[0;34m\u001b[0m\u001b[0m\n",
      "\u001b[0;31mRuntimeError\u001b[0m: Expected all tensors to be on the same device, but found at least two devices, cpu and cuda:0! (when checking argument for argument index in method wrapper__index_select)"
     ]
    }
   ],
   "source": [
    "# Instantiate new model and evaluate\n",
    "model = GINet()\n",
    "\n",
    "evaluate(model, valid_loader, validation=True)\n",
    "evaluate(model, test_loader)"
   ]
  },
  {
   "cell_type": "code",
   "execution_count": 30,
   "id": "4dea9d36",
   "metadata": {},
   "outputs": [
    {
     "ename": "RuntimeError",
     "evalue": "Error(s) in loading state_dict for GINet:\n\tMissing key(s) in state_dict: \"x_embedding1.weight\", \"x_embedding2.weight\", \"x_embedding2.bias\", \"gnns.0.mlp.0.weight\", \"gnns.0.mlp.0.bias\", \"gnns.0.mlp.2.weight\", \"gnns.0.mlp.2.bias\", \"gnns.0.edge_embedding1.weight\", \"gnns.1.mlp.0.weight\", \"gnns.1.mlp.0.bias\", \"gnns.1.mlp.2.weight\", \"gnns.1.mlp.2.bias\", \"gnns.1.edge_embedding1.weight\", \"gnns.2.mlp.0.weight\", \"gnns.2.mlp.0.bias\", \"gnns.2.mlp.2.weight\", \"gnns.2.mlp.2.bias\", \"gnns.2.edge_embedding1.weight\", \"gnns.3.mlp.0.weight\", \"gnns.3.mlp.0.bias\", \"gnns.3.mlp.2.weight\", \"gnns.3.mlp.2.bias\", \"gnns.3.edge_embedding1.weight\", \"gnns.4.mlp.0.weight\", \"gnns.4.mlp.0.bias\", \"gnns.4.mlp.2.weight\", \"gnns.4.mlp.2.bias\", \"gnns.4.edge_embedding1.weight\", \"batch_norms.0.weight\", \"batch_norms.0.bias\", \"batch_norms.0.running_mean\", \"batch_norms.0.running_var\", \"batch_norms.1.weight\", \"batch_norms.1.bias\", \"batch_norms.1.running_mean\", \"batch_norms.1.running_var\", \"batch_norms.2.weight\", \"batch_norms.2.bias\", \"batch_norms.2.running_mean\", \"batch_norms.2.running_var\", \"batch_norms.3.weight\", \"batch_norms.3.bias\", \"batch_norms.3.running_mean\", \"batch_norms.3.running_var\", \"batch_norms.4.weight\", \"batch_norms.4.bias\", \"batch_norms.4.running_mean\", \"batch_norms.4.running_var\", \"feat_lin.weight\", \"feat_lin.bias\", \"head.0.weight\", \"head.0.bias\", \"head.2.weight\", \"head.2.bias\". \n\tUnexpected key(s) in state_dict: \"atomic_mass\", \"embedding.weight\", \"distance_expansion.offset\", \"interactions.0.mlp.0.weight\", \"interactions.0.mlp.0.bias\", \"interactions.0.mlp.2.weight\", \"interactions.0.mlp.2.bias\", \"interactions.0.conv.lin1.weight\", \"interactions.0.conv.lin2.weight\", \"interactions.0.conv.lin2.bias\", \"interactions.0.conv.nn.0.weight\", \"interactions.0.conv.nn.0.bias\", \"interactions.0.conv.nn.2.weight\", \"interactions.0.conv.nn.2.bias\", \"interactions.0.lin.weight\", \"interactions.0.lin.bias\", \"interactions.1.mlp.0.weight\", \"interactions.1.mlp.0.bias\", \"interactions.1.mlp.2.weight\", \"interactions.1.mlp.2.bias\", \"interactions.1.conv.lin1.weight\", \"interactions.1.conv.lin2.weight\", \"interactions.1.conv.lin2.bias\", \"interactions.1.conv.nn.0.weight\", \"interactions.1.conv.nn.0.bias\", \"interactions.1.conv.nn.2.weight\", \"interactions.1.conv.nn.2.bias\", \"interactions.1.lin.weight\", \"interactions.1.lin.bias\", \"interactions.2.mlp.0.weight\", \"interactions.2.mlp.0.bias\", \"interactions.2.mlp.2.weight\", \"interactions.2.mlp.2.bias\", \"interactions.2.conv.lin1.weight\", \"interactions.2.conv.lin2.weight\", \"interactions.2.conv.lin2.bias\", \"interactions.2.conv.nn.0.weight\", \"interactions.2.conv.nn.0.bias\", \"interactions.2.conv.nn.2.weight\", \"interactions.2.conv.nn.2.bias\", \"interactions.2.lin.weight\", \"interactions.2.lin.bias\", \"interactions.3.mlp.0.weight\", \"interactions.3.mlp.0.bias\", \"interactions.3.mlp.2.weight\", \"interactions.3.mlp.2.bias\", \"interactions.3.conv.lin1.weight\", \"interactions.3.conv.lin2.weight\", \"interactions.3.conv.lin2.bias\", \"interactions.3.conv.nn.0.weight\", \"interactions.3.conv.nn.0.bias\", \"interactions.3.conv.nn.2.weight\", \"interactions.3.conv.nn.2.bias\", \"interactions.3.lin.weight\", \"interactions.3.lin.bias\", \"interactions.4.mlp.0.weight\", \"interactions.4.mlp.0.bias\", \"interactions.4.mlp.2.weight\", \"interactions.4.mlp.2.bias\", \"interactions.4.conv.lin1.weight\", \"interactions.4.conv.lin2.weight\", \"interactions.4.conv.lin2.bias\", \"interactions.4.conv.nn.0.weight\", \"interactions.4.conv.nn.0.bias\", \"interactions.4.conv.nn.2.weight\", \"interactions.4.conv.nn.2.bias\", \"interactions.4.lin.weight\", \"interactions.4.lin.bias\", \"interactions.5.mlp.0.weight\", \"interactions.5.mlp.0.bias\", \"interactions.5.mlp.2.weight\", \"interactions.5.mlp.2.bias\", \"interactions.5.conv.lin1.weight\", \"interactions.5.conv.lin2.weight\", \"interactions.5.conv.lin2.bias\", \"interactions.5.conv.nn.0.weight\", \"interactions.5.conv.nn.0.bias\", \"interactions.5.conv.nn.2.weight\", \"interactions.5.conv.nn.2.bias\", \"interactions.5.lin.weight\", \"interactions.5.lin.bias\", \"lin1.weight\", \"lin1.bias\", \"lin2.weight\", \"lin2.bias\". ",
     "output_type": "error",
     "traceback": [
      "\u001b[0;31m---------------------------------------------------------------------------\u001b[0m",
      "\u001b[0;31mRuntimeError\u001b[0m                              Traceback (most recent call last)",
      "\u001b[0;32m/tmp/ipykernel_13527/3997170241.py\u001b[0m in \u001b[0;36m<module>\u001b[0;34m\u001b[0m\n\u001b[1;32m      1\u001b[0m \u001b[0;31m# Load saved model and evaluate\u001b[0m\u001b[0;34m\u001b[0m\u001b[0;34m\u001b[0m\u001b[0;34m\u001b[0m\u001b[0m\n\u001b[0;32m----> 2\u001b[0;31m \u001b[0mmodel\u001b[0m\u001b[0;34m.\u001b[0m\u001b[0mload_state_dict\u001b[0m\u001b[0;34m(\u001b[0m\u001b[0mtorch\u001b[0m\u001b[0;34m.\u001b[0m\u001b[0mload\u001b[0m\u001b[0;34m(\u001b[0m\u001b[0;34m\"./saved_models/example_gin\"\u001b[0m\u001b[0;34m)\u001b[0m\u001b[0;34m)\u001b[0m\u001b[0;34m\u001b[0m\u001b[0;34m\u001b[0m\u001b[0m\n\u001b[0m\u001b[1;32m      3\u001b[0m \u001b[0mevaluate\u001b[0m\u001b[0;34m(\u001b[0m\u001b[0mmodel\u001b[0m\u001b[0;34m,\u001b[0m \u001b[0mvalid_loader\u001b[0m\u001b[0;34m,\u001b[0m \u001b[0mvalidation\u001b[0m\u001b[0;34m=\u001b[0m\u001b[0;32mTrue\u001b[0m\u001b[0;34m)\u001b[0m\u001b[0;34m\u001b[0m\u001b[0;34m\u001b[0m\u001b[0m\n\u001b[1;32m      4\u001b[0m \u001b[0mevaluate\u001b[0m\u001b[0;34m(\u001b[0m\u001b[0mmodel\u001b[0m\u001b[0;34m,\u001b[0m \u001b[0mtest_loader\u001b[0m\u001b[0;34m)\u001b[0m\u001b[0;34m\u001b[0m\u001b[0;34m\u001b[0m\u001b[0m\n",
      "\u001b[0;32m~/anaconda3/envs/test_auglichem/lib/python3.8/site-packages/torch/nn/modules/module.py\u001b[0m in \u001b[0;36mload_state_dict\u001b[0;34m(self, state_dict, strict)\u001b[0m\n\u001b[1;32m   1480\u001b[0m \u001b[0;34m\u001b[0m\u001b[0m\n\u001b[1;32m   1481\u001b[0m         \u001b[0;32mif\u001b[0m \u001b[0mlen\u001b[0m\u001b[0;34m(\u001b[0m\u001b[0merror_msgs\u001b[0m\u001b[0;34m)\u001b[0m \u001b[0;34m>\u001b[0m \u001b[0;36m0\u001b[0m\u001b[0;34m:\u001b[0m\u001b[0;34m\u001b[0m\u001b[0;34m\u001b[0m\u001b[0m\n\u001b[0;32m-> 1482\u001b[0;31m             raise RuntimeError('Error(s) in loading state_dict for {}:\\n\\t{}'.format(\n\u001b[0m\u001b[1;32m   1483\u001b[0m                                self.__class__.__name__, \"\\n\\t\".join(error_msgs)))\n\u001b[1;32m   1484\u001b[0m         \u001b[0;32mreturn\u001b[0m \u001b[0m_IncompatibleKeys\u001b[0m\u001b[0;34m(\u001b[0m\u001b[0mmissing_keys\u001b[0m\u001b[0;34m,\u001b[0m \u001b[0munexpected_keys\u001b[0m\u001b[0;34m)\u001b[0m\u001b[0;34m\u001b[0m\u001b[0;34m\u001b[0m\u001b[0m\n",
      "\u001b[0;31mRuntimeError\u001b[0m: Error(s) in loading state_dict for GINet:\n\tMissing key(s) in state_dict: \"x_embedding1.weight\", \"x_embedding2.weight\", \"x_embedding2.bias\", \"gnns.0.mlp.0.weight\", \"gnns.0.mlp.0.bias\", \"gnns.0.mlp.2.weight\", \"gnns.0.mlp.2.bias\", \"gnns.0.edge_embedding1.weight\", \"gnns.1.mlp.0.weight\", \"gnns.1.mlp.0.bias\", \"gnns.1.mlp.2.weight\", \"gnns.1.mlp.2.bias\", \"gnns.1.edge_embedding1.weight\", \"gnns.2.mlp.0.weight\", \"gnns.2.mlp.0.bias\", \"gnns.2.mlp.2.weight\", \"gnns.2.mlp.2.bias\", \"gnns.2.edge_embedding1.weight\", \"gnns.3.mlp.0.weight\", \"gnns.3.mlp.0.bias\", \"gnns.3.mlp.2.weight\", \"gnns.3.mlp.2.bias\", \"gnns.3.edge_embedding1.weight\", \"gnns.4.mlp.0.weight\", \"gnns.4.mlp.0.bias\", \"gnns.4.mlp.2.weight\", \"gnns.4.mlp.2.bias\", \"gnns.4.edge_embedding1.weight\", \"batch_norms.0.weight\", \"batch_norms.0.bias\", \"batch_norms.0.running_mean\", \"batch_norms.0.running_var\", \"batch_norms.1.weight\", \"batch_norms.1.bias\", \"batch_norms.1.running_mean\", \"batch_norms.1.running_var\", \"batch_norms.2.weight\", \"batch_norms.2.bias\", \"batch_norms.2.running_mean\", \"batch_norms.2.running_var\", \"batch_norms.3.weight\", \"batch_norms.3.bias\", \"batch_norms.3.running_mean\", \"batch_norms.3.running_var\", \"batch_norms.4.weight\", \"batch_norms.4.bias\", \"batch_norms.4.running_mean\", \"batch_norms.4.running_var\", \"feat_lin.weight\", \"feat_lin.bias\", \"head.0.weight\", \"head.0.bias\", \"head.2.weight\", \"head.2.bias\". \n\tUnexpected key(s) in state_dict: \"atomic_mass\", \"embedding.weight\", \"distance_expansion.offset\", \"interactions.0.mlp.0.weight\", \"interactions.0.mlp.0.bias\", \"interactions.0.mlp.2.weight\", \"interactions.0.mlp.2.bias\", \"interactions.0.conv.lin1.weight\", \"interactions.0.conv.lin2.weight\", \"interactions.0.conv.lin2.bias\", \"interactions.0.conv.nn.0.weight\", \"interactions.0.conv.nn.0.bias\", \"interactions.0.conv.nn.2.weight\", \"interactions.0.conv.nn.2.bias\", \"interactions.0.lin.weight\", \"interactions.0.lin.bias\", \"interactions.1.mlp.0.weight\", \"interactions.1.mlp.0.bias\", \"interactions.1.mlp.2.weight\", \"interactions.1.mlp.2.bias\", \"interactions.1.conv.lin1.weight\", \"interactions.1.conv.lin2.weight\", \"interactions.1.conv.lin2.bias\", \"interactions.1.conv.nn.0.weight\", \"interactions.1.conv.nn.0.bias\", \"interactions.1.conv.nn.2.weight\", \"interactions.1.conv.nn.2.bias\", \"interactions.1.lin.weight\", \"interactions.1.lin.bias\", \"interactions.2.mlp.0.weight\", \"interactions.2.mlp.0.bias\", \"interactions.2.mlp.2.weight\", \"interactions.2.mlp.2.bias\", \"interactions.2.conv.lin1.weight\", \"interactions.2.conv.lin2.weight\", \"interactions.2.conv.lin2.bias\", \"interactions.2.conv.nn.0.weight\", \"interactions.2.conv.nn.0.bias\", \"interactions.2.conv.nn.2.weight\", \"interactions.2.conv.nn.2.bias\", \"interactions.2.lin.weight\", \"interactions.2.lin.bias\", \"interactions.3.mlp.0.weight\", \"interactions.3.mlp.0.bias\", \"interactions.3.mlp.2.weight\", \"interactions.3.mlp.2.bias\", \"interactions.3.conv.lin1.weight\", \"interactions.3.conv.lin2.weight\", \"interactions.3.conv.lin2.bias\", \"interactions.3.conv.nn.0.weight\", \"interactions.3.conv.nn.0.bias\", \"interactions.3.conv.nn.2.weight\", \"interactions.3.conv.nn.2.bias\", \"interactions.3.lin.weight\", \"interactions.3.lin.bias\", \"interactions.4.mlp.0.weight\", \"interactions.4.mlp.0.bias\", \"interactions.4.mlp.2.weight\", \"interactions.4.mlp.2.bias\", \"interactions.4.conv.lin1.weight\", \"interactions.4.conv.lin2.weight\", \"interactions.4.conv.lin2.bias\", \"interactions.4.conv.nn.0.weight\", \"interactions.4.conv.nn.0.bias\", \"interactions.4.conv.nn.2.weight\", \"interactions.4.conv.nn.2.bias\", \"interactions.4.lin.weight\", \"interactions.4.lin.bias\", \"interactions.5.mlp.0.weight\", \"interactions.5.mlp.0.bias\", \"interactions.5.mlp.2.weight\", \"interactions.5.mlp.2.bias\", \"interactions.5.conv.lin1.weight\", \"interactions.5.conv.lin2.weight\", \"interactions.5.conv.lin2.bias\", \"interactions.5.conv.nn.0.weight\", \"interactions.5.conv.nn.0.bias\", \"interactions.5.conv.nn.2.weight\", \"interactions.5.conv.nn.2.bias\", \"interactions.5.lin.weight\", \"interactions.5.lin.bias\", \"lin1.weight\", \"lin1.bias\", \"lin2.weight\", \"lin2.bias\". "
     ]
    }
   ],
   "source": [
    "# Load saved model and evaluate\n",
    "model.load_state_dict(torch.load(\"./saved_models/example_gin\"))\n",
    "evaluate(model, valid_loader, validation=True)\n",
    "evaluate(model, test_loader)"
   ]
  },
  {
   "cell_type": "code",
   "execution_count": null,
   "id": "79f9b873",
   "metadata": {},
   "outputs": [],
   "source": []
  }
 ],
 "metadata": {
  "kernelspec": {
   "display_name": "Python 3 (ipykernel)",
   "language": "python",
   "name": "python3"
  },
  "language_info": {
   "codemirror_mode": {
    "name": "ipython",
    "version": 3
   },
   "file_extension": ".py",
   "mimetype": "text/x-python",
   "name": "python",
   "nbconvert_exporter": "python",
   "pygments_lexer": "ipython3",
   "version": "3.8.12"
  }
 },
 "nbformat": 4,
 "nbformat_minor": 5
}
